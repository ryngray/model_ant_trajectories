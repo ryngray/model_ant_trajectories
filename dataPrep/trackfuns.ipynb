{
 "cells": [
  {
   "cell_type": "code",
   "execution_count": null,
   "id": "4ec183fe",
   "metadata": {},
   "outputs": [],
   "source": [
    "# Module for manipulating trajectories\n",
    "# Use %run ./trackfuns.ipynb in your import section to use functions of this script\n",
    "\n",
    "# Contents:\n",
    "# addMetrics: adds s, theta, alpha to track DataFrame\n",
    "# alphaToTrack: creates track (x, y) from alpha\n",
    "\n",
    "def addMetrics(trackDat):\n",
    "    # Calculates step length, heading angle, and turn angle for each track in the data.\n",
    "    # In: pd.DataFrame of all tracks w/ [x, y, t, id]\n",
    "    # Out: all tracks w/ [x,y,t,id,s,theta,alpha]\n",
    "    # s & theta calculated as currPoint - prevPoint; alpha: angle around the current point (thus, NaNs)\n",
    "    nanArr = np.empty(len(trackDat))\n",
    "    nanArr[:] = np.NaN\n",
    "    s = copy.deepcopy(nanArr)\n",
    "    theta = copy.deepcopy(nanArr)\n",
    "    alpha = copy.deepcopy(nanArr)\n",
    "    ids = np.unique(trackDat.id)\n",
    "    for id in ids:\n",
    "        idx = trackDat.id == id\n",
    "        dist = np.diff(trackDat[idx], axis=0)\n",
    "        s[idx] = np.concatenate(([np.nan], np.hypot(dist[:,0], dist[:,1])),axis=0) # Distances between points\n",
    "        thetaPre = np.arctan2(np.diff(trackDat.x[idx]), np.diff(trackDat.y[idx])) # Heading angle (N = 0, E = +)\n",
    "        alphaPre = np.diff(thetaPre) # Turn angle (left = -, right = +)\n",
    "        alpha[idx] = np.concatenate(([np.nan], np.degrees((alphaPre + np.pi) % (2*np.pi) - np.pi), [np.nan]), axis=0)\n",
    "        theta[idx] = np.concatenate(([np.nan], np.degrees(thetaPre)),axis=0)\n",
    "    trackDat['s'] = s\n",
    "    trackDat['theta'] = theta\n",
    "    trackDat['alpha'] = alpha\n",
    "    return trackDat\n",
    "\n",
    "\n",
    "def alphaToTrack(allAngles):\n",
    "    # Input: turn angles\n",
    "    # Output: x, y of the trajectories, starting @ 0, with steplength = 1\n",
    "    theta = np.cumsum(allAngles)\n",
    "    dx = [0] + np.cos(theta)\n",
    "    dy = [0] + np.sin(theta)\n",
    "    xCoords = np.cumsum(dx)\n",
    "    yCoords = np.cumsum(dy)\n",
    "    return xCoords, yCoords"
   ]
  }
 ],
 "metadata": {
  "kernelspec": {
   "display_name": "Python 3 (ipykernel)",
   "language": "python",
   "name": "python3"
  },
  "language_info": {
   "codemirror_mode": {
    "name": "ipython",
    "version": 3
   },
   "file_extension": ".py",
   "mimetype": "text/x-python",
   "name": "python",
   "nbconvert_exporter": "python",
   "pygments_lexer": "ipython3",
   "version": "3.9.7"
  },
  "varInspector": {
   "cols": {
    "lenName": 16,
    "lenType": 16,
    "lenVar": 40
   },
   "kernels_config": {
    "python": {
     "delete_cmd_postfix": "",
     "delete_cmd_prefix": "del ",
     "library": "var_list.py",
     "varRefreshCmd": "print(var_dic_list())"
    },
    "r": {
     "delete_cmd_postfix": ") ",
     "delete_cmd_prefix": "rm(",
     "library": "var_list.r",
     "varRefreshCmd": "cat(var_dic_list()) "
    }
   },
   "types_to_exclude": [
    "module",
    "function",
    "builtin_function_or_method",
    "instance",
    "_Feature"
   ],
   "window_display": false
  }
 },
 "nbformat": 4,
 "nbformat_minor": 5
}
