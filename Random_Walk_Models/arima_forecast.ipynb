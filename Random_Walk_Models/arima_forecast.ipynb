{
 "cells": [
  {
   "cell_type": "code",
   "execution_count": 1,
   "id": "bf192f23",
   "metadata": {},
   "outputs": [
    {
     "name": "stderr",
     "output_type": "stream",
     "text": [
      "/home/stefan/anaconda3/lib/python3.8/site-packages/statsmodels/tsa/base/tsa_model.py:7: FutureWarning: pandas.Int64Index is deprecated and will be removed from pandas in a future version. Use pandas.Index with the appropriate dtype instead.\n",
      "  from pandas import (to_datetime, Int64Index, DatetimeIndex, Period,\n",
      "/home/stefan/anaconda3/lib/python3.8/site-packages/statsmodels/tsa/base/tsa_model.py:7: FutureWarning: pandas.Float64Index is deprecated and will be removed from pandas in a future version. Use pandas.Index with the appropriate dtype instead.\n",
      "  from pandas import (to_datetime, Int64Index, DatetimeIndex, Period,\n"
     ]
    }
   ],
   "source": [
    "import warnings\n",
    "warnings.filterwarnings(\"ignore\")\n",
    "import numpy as np\n",
    "import pandas as pd\n",
    "import matplotlib.pyplot as plt\n",
    "from statsmodels.graphics.tsaplots import plot_acf, plot_pacf\n",
    "#from pmdarima.arima.utils import ndiffs\n",
    "from statsmodels.tsa.arima.model import ARIMA\n",
    "%run ../data_prep/trackfuns.py\n",
    "from sklearn.metrics import mean_squared_error\n",
    "import math"
   ]
  },
  {
   "cell_type": "code",
   "execution_count": 7,
   "id": "5f4400b5",
   "metadata": {},
   "outputs": [],
   "source": [
    "# Set Arima model p and q values for p-d-q\n",
    "pq = 80\n",
    "\n",
    "# Set data file path\n",
    "#file_name = r'/Users/beyzabozdag/Desktop/ANTteam/HRM_V1_ants.txt'\n",
    "trial_name = 'T1'\n",
    "file_name = r'~/Documents/MATLAB/clean_724000/HRM_' + trial_name + '_ants.txt'\n",
    "\n",
    "# Set the number of ants to iterate over, if set to 0 or a number greater the total ant count, will iterate all ants.\n",
    "ant_count = 50\n",
    "\n",
    "# Set training points count\n",
    "train_count = 800\n",
    "\n",
    "# Set forecast/test points count\n",
    "test_count = 100\n",
    "\n",
    "# Set plots true/false\n",
    "plots = False"
   ]
  },
  {
   "cell_type": "code",
   "execution_count": 8,
   "id": "b97124b0",
   "metadata": {},
   "outputs": [],
   "source": [
    "# Load data file\n",
    "df = pd.read_csv(file_name)\n",
    "\n",
    "# Create a list of all ant ids which have more than the required points points.\n",
    "ant_ids = []\n",
    "\n",
    "all_ids = df.id.unique()\n",
    "\n",
    "# All required points\n",
    "required = train_count + test_count\n",
    "\n",
    "for ant_id in all_ids:\n",
    "    # checks if a single ant id has enough rows/points\n",
    "    if df[df.id == ant_id].count()['x'] > required:\n",
    "        ant_ids.append(ant_id)"
   ]
  },
  {
   "cell_type": "code",
   "execution_count": 9,
   "id": "6b1dae5c",
   "metadata": {},
   "outputs": [],
   "source": [
    "# This is the function that will be used to translate turn angles (alpha) to xy coordinates.\n",
    "def angles_to_xy(a, d = 2):\n",
    "    x = []\n",
    "    y = []\n",
    "    x0 = 0\n",
    "    y0 = 0\n",
    "    ang_new=0\n",
    "    x.append(x0)\n",
    "    y.append(y0)\n",
    "    for ai in a:\n",
    "        ang_new = (ang_new+ai)%360\n",
    "        xi = x0 - d*np.cos(np.radians(ang_new))\n",
    "        yi = y0 - d*np.sin(np.radians(ang_new))\n",
    "        x.append(xi)\n",
    "        y.append(yi)\n",
    "        x0 = xi\n",
    "        y0 = yi\n",
    "    return [x,y][::-1]"
   ]
  },
  {
   "cell_type": "code",
   "execution_count": 10,
   "id": "d8c9a728",
   "metadata": {},
   "outputs": [],
   "source": [
    "# Create 2 dataFrames with the forecasted and actual values of the turn angles to use them for histograms.\n",
    "df_test = pd.DataFrame(columns=['id','t','x','y'])\n",
    "\n",
    "# Copy test to create forecast\n",
    "df_forecast = df_test.copy()"
   ]
  },
  {
   "cell_type": "code",
   "execution_count": 11,
   "id": "830909f2",
   "metadata": {
    "scrolled": true
   },
   "outputs": [
    {
     "name": "stdout",
     "output_type": "stream",
     "text": [
      "ANT ID: 1 | model:80-0-80\n",
      "ANT ID: 2 | model:80-0-80\n",
      "ANT ID: 3 | model:80-0-80\n",
      "ANT ID: 5 | model:80-0-80\n",
      "ANT ID: 6 | model:80-0-80\n",
      "ANT ID: 8 | model:80-0-80\n",
      "ANT ID: 11 | model:80-0-80\n",
      "ANT ID: 12 | model:80-0-80\n",
      "ANT ID: 13 | model:80-0-80\n",
      "ANT ID: 14 | model:80-0-80\n",
      "ANT ID: 16 | model:80-0-80\n",
      "ANT ID: 17 | model:80-0-80\n",
      "ANT ID: 18 | model:80-0-80\n",
      "ANT ID: 19 | model:80-0-80\n",
      "ANT ID: 22 | model:80-0-80\n",
      "ANT ID: 24 | model:80-0-80\n",
      "ANT ID: 25 | model:80-0-80\n",
      "ANT ID: 26 | model:80-0-80\n",
      "ANT ID: 27 | model:80-0-80\n",
      "ANT ID: 28 | model:80-0-80\n",
      "ANT ID: 30 | model:80-0-80\n",
      "ANT ID: 31 | model:80-0-80\n",
      "ANT ID: 32 | model:80-0-80\n",
      "ANT ID: 35 | model:80-0-80\n",
      "ANT ID: 36 | model:80-0-80\n",
      "ANT ID: 37 | model:80-0-80\n",
      "ANT ID: 38 | model:80-0-80\n",
      "ANT ID: 39 | model:80-0-80\n",
      "ANT ID: 40 | model:80-0-80\n",
      "ANT ID: 42 | model:80-0-80\n",
      "ANT ID: 43 | model:80-0-80\n",
      "ANT ID: 44 | model:80-0-80\n",
      "ANT ID: 45 | model:80-0-80\n",
      "ANT ID: 47 | model:80-0-80\n",
      "ANT ID: 48 | model:80-0-80\n",
      "ANT ID: 49 | model:80-0-80\n",
      "ANT ID: 50 | model:80-0-80\n",
      "ANT ID: 51 | model:80-0-80\n",
      "ANT ID: 52 | model:80-0-80\n",
      "ANT ID: 53 | model:80-0-80\n",
      "ANT ID: 54 | model:80-0-80\n",
      "ANT ID: 55 | model:80-0-80\n",
      "ANT ID: 56 | model:80-0-80\n",
      "ANT ID: 57 | model:80-0-80\n",
      "ANT ID: 60 | model:80-0-80\n",
      "ANT ID: 61 | model:80-0-80\n",
      "ANT ID: 63 | model:80-0-80\n",
      "ANT ID: 64 | model:80-0-80\n",
      "ANT ID: 65 | model:80-0-80\n",
      "ANT ID: 66 | model:80-0-80\n"
     ]
    }
   ],
   "source": [
    "if ant_count == 0:\n",
    "    ant_count = len(ant_ids)\n",
    "\n",
    "# Loop over each ant get the forecast\n",
    "for ant_id in ant_ids[0:ant_count]:\n",
    "    \n",
    "    temp = df[df.id == ant_id]\n",
    "    start = temp.index[0]\n",
    "    \n",
    "    # Create Training and Test\n",
    "    train = df.alpha[start : start + train_count]\n",
    "    test = df.alpha[start + train_count : start + required]\n",
    "    \n",
    "    print(f\"ANT ID: {ant_id} | model:{pq}-0-{pq}\")\n",
    "    model = ARIMA(train, order=(pq, 0, pq))  \n",
    "    fitted = model.fit()\n",
    "    \n",
    "    # Forecast\n",
    "    fc = fitted.forecast(test_count, alpha=0.05)  # 95% conf\n",
    "\n",
    "    # Make as pandas series\n",
    "    fc_series = pd.Series(fc, index=test.index)\n",
    "    \n",
    "    # Plot \n",
    "    if plots:\n",
    "        plt.figure(figsize=(12,5), dpi=100)\n",
    "        plt.xscale(\"linear\")\n",
    "        plt.plot(train, label='training')\n",
    "        plt.plot(test, label='actual')\n",
    "        plt.plot(fc_series, label='forecast')\n",
    "        plt.title('Forecast vs Actuals')\n",
    "        plt.legend(loc='upper left', fontsize=8)\n",
    "        plt.show()\n",
    "\n",
    "        test_x, test_y = angles_to_xy(test)\n",
    "        plt.plot(test_x, test_y, label='training', color=\"tab:orange\")\n",
    "\n",
    "        forecast_x, forecast_y = angles_to_xy(fc_series)\n",
    "        plt.plot(forecast_x, forecast_y, label='forecast', color=\"tab:green\")\n",
    "\n",
    "        plt.show()\n",
    "    \n",
    "    \n",
    "    # Write to data frames\n",
    "    \n",
    "    # First create temporary dataframes for both the test and forecast data \n",
    "    df_t = pd.DataFrame(columns=['id','t','x','y'])\n",
    "    df_t['t'] = temp.loc[start + train_count:start + required, 't']\n",
    "    df_t.id = ant_id\n",
    "    \n",
    "    df_f = df_t.copy()\n",
    "\n",
    "    # Add id, t, x, and y for test data\n",
    "    test_x, test_y = angles_to_xy(test)\n",
    "    df_t['x'] = test_x[:]\n",
    "    df_t['y'] = test_y[:]\n",
    "\n",
    "    # Add coord for forecast data\n",
    "    forecast_x, forecast_y = angles_to_xy(fc_series)\n",
    "    df_f['x'] = forecast_x[:]\n",
    "    df_f['y'] = forecast_y[:]\n",
    "    \n",
    "    # Concatenate to the actual data frames\n",
    "    df_test = pd.concat([df_test, df_t], ignore_index=True, sort=False)\n",
    "    df_forecast = pd.concat([df_forecast, df_f], ignore_index=True, sort=False)\n",
    "    \n"
   ]
  },
  {
   "cell_type": "code",
   "execution_count": 13,
   "id": "f5f03458",
   "metadata": {},
   "outputs": [],
   "source": [
    "# rite test to file\n",
    "df_test.to_csv(trial_name + str(pq) + '_' + str(train_count) + '_' + str(test_count) + \"test.txt\")"
   ]
  },
  {
   "cell_type": "code",
   "execution_count": 15,
   "id": "b174f106",
   "metadata": {},
   "outputs": [],
   "source": [
    "# Write forecast to file\n",
    "df_forecast.to_csv(trial_name + str(pq) + '_' + str(train_count) + '_' + str(test_count) + \"forecast.txt\")"
   ]
  },
  {
   "cell_type": "code",
   "execution_count": 52,
   "id": "243226e4",
   "metadata": {
    "scrolled": true
   },
   "outputs": [
    {
     "data": {
      "text/plain": [
       "5050"
      ]
     },
     "execution_count": 52,
     "metadata": {},
     "output_type": "execute_result"
    }
   ],
   "source": [
    "# Display test (=ant) or forecast\n",
    "df_test\n",
    "df_forecast\n",
    "xyDists = np.diff(df_test.loc[:,['x','y']],axis=0)\n",
    "s = np.append(np.nan, np.sqrt(np.sum(xyDists**2,1).astype(float)))\n",
    "s.size"
   ]
  }
 ],
 "metadata": {
  "celltoolbar": "Raw Cell Format",
  "kernelspec": {
   "display_name": "Python 3 (ipykernel)",
   "language": "python",
   "name": "python3"
  },
  "language_info": {
   "codemirror_mode": {
    "name": "ipython",
    "version": 3
   },
   "file_extension": ".py",
   "mimetype": "text/x-python",
   "name": "python",
   "nbconvert_exporter": "python",
   "pygments_lexer": "ipython3",
   "version": "3.8.5"
  },
  "varInspector": {
   "cols": {
    "lenName": 16,
    "lenType": 16,
    "lenVar": 40
   },
   "kernels_config": {
    "python": {
     "delete_cmd_postfix": "",
     "delete_cmd_prefix": "del ",
     "library": "var_list.py",
     "varRefreshCmd": "print(var_dic_list())"
    },
    "r": {
     "delete_cmd_postfix": ") ",
     "delete_cmd_prefix": "rm(",
     "library": "var_list.r",
     "varRefreshCmd": "cat(var_dic_list()) "
    }
   },
   "types_to_exclude": [
    "module",
    "function",
    "builtin_function_or_method",
    "instance",
    "_Feature"
   ],
   "window_display": false
  }
 },
 "nbformat": 4,
 "nbformat_minor": 5
}
