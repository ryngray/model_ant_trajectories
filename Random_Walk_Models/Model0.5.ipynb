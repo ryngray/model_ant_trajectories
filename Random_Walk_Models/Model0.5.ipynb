{
 "cells": [
  {
   "cell_type": "code",
   "execution_count": 2,
   "metadata": {},
   "outputs": [
    {
     "name": "stderr",
     "output_type": "stream",
     "text": [
      "/home/ryn/anaconda3/lib/python3.8/site-packages/tqdm/std.py:697: FutureWarning: The Panel class is removed from pandas. Accessing it from the top-level namespace will also be removed in the next version\n",
      "  from pandas import Panel\n"
     ]
    }
   ],
   "source": [
    "import numpy as np\n",
    "import pandas as pd\n",
    "import matplotlib.pyplot as plt\n",
    "import skmob\n",
    "from skmob.tessellation import tilers\n",
    "from skmob.measures.individual import distance_straight_line, maximum_distance, number_of_visits, waiting_times, real_entropy\n",
    "import math\n",
    "from tqdm import tqdm\n",
    "from numpy.linalg import norm\n",
    "import traja\n",
    "from scipy.stats import ks_2samp\n",
    "import folium\n",
    "from datetime import datetime\n",
    "from skmob.models.epr import DensityEPR\n",
    "import geopandas as gpd\n"
   ]
  },
  {
   "cell_type": "code",
   "execution_count": 170,
   "metadata": {},
   "outputs": [],
   "source": [
    "def get_speed(traj):\n",
    "    f_np = np.asarray(traj)\n",
    "    xs = np.subtract(f_np[0:-1,0],f_np[1:,0])\n",
    "    ys = np.subtract(f_np[0:-1,1],f_np[1:,1])\n",
    "    speed = np.divide(np.sqrt(np.add(np.power(xs, 2), np.power(ys, 2))),np.subtract(f_np[1:,2],f_np[:-1,2]))\n",
    "    speed = np.insert(speed, 0,0)\n",
    "    if(len(speed) != 1500):\n",
    "        print(\"HERE!\", np.shape(speed[0]))\n",
    "    return speed\n",
    "\n",
    "def get_acc(traj):\n",
    "    f_np = np.asarray(traj)\n",
    "    acc = np.divide(np.subtract(f_np[1:,6], f_np[:-1,6]),np.subtract(f_np[1:,4],f_np[:-1,4]))\n",
    "    acc = np.insert(acc, 0,0)\n",
    "    return acc\n",
    "\n",
    "def get_angle(traj):\n",
    "    f_np = np.asarray(traj)\n",
    "    angle = np.arctan2(np.subtract(f_np[0:-1,3],f_np[1:,3]),np.subtract(f_np[0:-1,2],f_np[1:,2]))\n",
    "    angle = np.insert(angle, 0,0)\n",
    "    deg = [math.degrees(x) for x in angle]\n",
    "    return deg\n",
    "\n",
    "def get_speed_rw(traj):\n",
    "    f_np = np.asarray(traj)\n",
    "    xs = np.subtract(f_np[0:-1,0],f_np[1:,0])\n",
    "    ys = np.subtract(f_np[0:-1,1],f_np[1:,1])\n",
    "    speed = np.divide(np.sqrt(np.add(np.power(xs, 2), np.power(ys, 2))),np.subtract(f_np[1:,2],f_np[:-1,2]))\n",
    "    speed = np.insert(speed, 0,0)\n",
    "    if(len(speed) != 1500):\n",
    "        print(\"HERE!\", np.shape(speed[0]))\n",
    "    return speed\n",
    "\n",
    "def get_acc_rw(traj):\n",
    "    f_np = np.asarray(traj)\n",
    "    xs = np.subtract(f_np[0:-1,0],f_np[1:,0])\n",
    "    ys = np.subtract(f_np[0:-1,1],f_np[1:,1])\n",
    "    speed = np.divide(np.sqrt(np.add(np.power(xs, 2), np.power(ys, 2))),np.subtract(f_np[1:,2],f_np[:-1,2]))\n",
    "    speed = np.insert(speed, 0,0)   \n",
    "    acc = np.divide(np.subtract(speed[1:], speed[:-1]),np.subtract(f_np[1:,2],f_np[:-1,2]))\n",
    "    acc = np.insert(acc, 0,0)\n",
    "    return acc\n",
    "\n",
    "def get_angle_rw(traj, convert_to_degrees = False):\n",
    "    f_np = np.asarray(traj)\n",
    "    angle = np.arctan2(np.subtract(f_np[0:-1,1],f_np[1:,1]),np.subtract(f_np[0:-1,0],f_np[1:,0]))\n",
    "    angle = np.insert(angle, 0,0)\n",
    "    if(convert_to_degrees):\n",
    "        deg = [math.degrees(x) for x in angle]\n",
    "    else:\n",
    "        deg = angle\n",
    "    return deg\n",
    "\n",
    "def get_change_dir(a):\n",
    "    a = np.asarray(a)\n",
    "    asign = np.sign(a)\n",
    "    signchange = ((np.roll(asign, 1) - asign) != 0).astype(int)\n",
    "    signchange[0]=0\n",
    "    return sum(signchange)\n",
    "\n",
    "def triangle_area(arr, step_size = 1):\n",
    "    if(step_size == 0):\n",
    "        print(\"Cannot have step size be 0\")\n",
    "    tot_area = 0\n",
    "    for i in range(len(arr)):\n",
    "        [x1,y1,t] = arr[i]\n",
    "        [x2,y2,t] = arr[i+step_size]\n",
    "        try:\n",
    "            [x3,y3,t] = arr[i+2*step_size]\n",
    "        except:\n",
    "            return tot_area\n",
    "        Area = 1/2 *(x1*abs(y2 - y3) + x2*abs(y3 - y1) + x3*abs(y1 - y2))\n",
    "        tot_area += Area\n",
    "    return tot_area"
   ]
  },
  {
   "cell_type": "code",
   "execution_count": 3,
   "metadata": {},
   "outputs": [],
   "source": [
    "dat = pd.read_csv(\"../../Minute_Trajectories_3.csv\")\n",
    "# dat['angles'] = traja.trajectory.calc_angle(dat)"
   ]
  },
  {
   "cell_type": "code",
   "execution_count": 51,
   "metadata": {},
   "outputs": [],
   "source": [
    "dat_avg = pd.read_csv(\"overview_minute.csv\")"
   ]
  },
  {
   "cell_type": "code",
   "execution_count": 4,
   "metadata": {},
   "outputs": [],
   "source": [
    "datnp = np.asarray(dat)"
   ]
  },
  {
   "cell_type": "code",
   "execution_count": 35,
   "metadata": {},
   "outputs": [
    {
     "data": {
      "text/plain": [
       "x    2085.9320\n",
       "y     662.4187\n",
       "Name: 3, dtype: float64"
      ]
     },
     "execution_count": 35,
     "metadata": {},
     "output_type": "execute_result"
    }
   ],
   "source": [
    "dat.loc[3,['x','y']] "
   ]
  },
  {
   "cell_type": "code",
   "execution_count": 6,
   "metadata": {},
   "outputs": [
    {
     "data": {
      "text/plain": [
       "2085.328"
      ]
     },
     "execution_count": 6,
     "metadata": {},
     "output_type": "execute_result"
    }
   ],
   "source": [
    "dat['x'][0]"
   ]
  },
  {
   "cell_type": "code",
   "execution_count": 7,
   "metadata": {},
   "outputs": [
    {
     "name": "stdout",
     "output_type": "stream",
     "text": [
      "   minute_id         x         y       t   id       tmp\n",
      "0          1  2085.328  662.2738  304.08  1.0       NaN\n",
      "1          1  2085.488  662.2914  304.12  1.0  0.040009\n",
      "2          1  2085.695  662.3420  304.16  1.0  0.040009\n",
      "3          1  2085.932  662.4187  304.20  1.0  0.040009\n",
      "4          1  2086.202  662.5214  304.24  1.0  0.039978\n"
     ]
    }
   ],
   "source": [
    "print(dat.head())"
   ]
  },
  {
   "cell_type": "code",
   "execution_count": 8,
   "metadata": {},
   "outputs": [
    {
     "data": {
      "text/plain": [
       "[1, 2, 3]"
      ]
     },
     "execution_count": 8,
     "metadata": {},
     "output_type": "execute_result"
    }
   ],
   "source": [
    "def return_mult():\n",
    "    return [1,2,3]\n",
    "\n",
    "a = return_mult()\n",
    "a"
   ]
  },
  {
   "cell_type": "code",
   "execution_count": 195,
   "metadata": {},
   "outputs": [],
   "source": [
    "def sample_angle_unif():\n",
    "    return np.random.uniform(low=0, high=2*np.pi)\n",
    "\n",
    "def sample_angle_data():\n",
    "    return dat.sample(n=1)['angles']#math.radians(dat.sample(n=1)['angles'])\n",
    "\n",
    "def sample_angle_norm():\n",
    "    return np.random.normal(0,100)\n",
    "\n",
    "def sample_angle_beta():\n",
    "    return 50*(np.random.beta(2,2)-0.5)"
   ]
  },
  {
   "cell_type": "code",
   "execution_count": 196,
   "metadata": {},
   "outputs": [],
   "source": [
    "def sample_length_unif():\n",
    "    return np.random.uniform(low=0, high = 1)\n",
    "def sample_length_data():\n",
    "    ind = np.random.randint(np.shape(dat)[0])\n",
    "    if(ind > 0):\n",
    "        d1 = dat.iloc[ind]\n",
    "        d2 = dat.iloc[ind-1]\n",
    "        d = np.sqrt((d1['x']-d2['x'])**2 + (d1['y']-d2['y'])**2)\n",
    "    else:\n",
    "        d = 0\n",
    "    return d\n",
    "def sample_length_norm():\n",
    "    return abs(np.random.normal(0,6))\n"
   ]
  },
  {
   "cell_type": "code",
   "execution_count": 215,
   "metadata": {},
   "outputs": [],
   "source": [
    "def sample_rw(n=1500,x=0,y=0, a=\"unif\",l=\"unif\"):\n",
    "    traj = np.zeros((n,3))\n",
    "    a_old = 0 \n",
    "    for i in range(1,n):\n",
    "        if(a == \"unif\"):\n",
    "            an = sample_angle_unif()\n",
    "        elif(a == \"data\"):\n",
    "            an = sample_angle_data()\n",
    "        elif(a == \"norm\"):\n",
    "            an = sample_angle_norm()\n",
    "        elif(a == \"beta\"):\n",
    "            an = sample_angle_beta()\n",
    "        else:\n",
    "            print(\"Unknown Option for a\")\n",
    "        if(l == \"unif\"):\n",
    "            ln = sample_length_unif()\n",
    "        elif(l == \"data\"):\n",
    "            ln = sample_length_data()\n",
    "        elif(l == \"norm\"):\n",
    "            ln = sample_length_norm()\n",
    "        else:\n",
    "            print(\"Unknown Option for l\")\n",
    "        an_final = np.radians(an + a_old % 360)\n",
    "        a_old = an\n",
    "        x1 = traj[i-1][0] + ln * np.cos(an_final)\n",
    "        y1 = traj[i-1][1] + ln * np.sin(an_final)\n",
    "        traj[i]=[x1,y1,i]\n",
    "    return traj\n",
    "        "
   ]
  },
  {
   "cell_type": "code",
   "execution_count": 216,
   "metadata": {},
   "outputs": [
    {
     "data": {
      "text/plain": [
       "[<matplotlib.lines.Line2D at 0x7f1940665bb0>]"
      ]
     },
     "execution_count": 216,
     "metadata": {},
     "output_type": "execute_result"
    },
    {
     "data": {
      "image/png": "[encoded data removed]",
      "text/plain": [
       "<Figure size 432x288 with 1 Axes>"
      ]
     },
     "metadata": {
      "needs_background": "light"
     },
     "output_type": "display_data"
    }
   ],
   "source": [
    "traj = sample_rw()\n",
    "\n",
    "plt.plot(traj[:,0],traj[:,1])"
   ]
  },
  {
   "cell_type": "code",
   "execution_count": 217,
   "metadata": {},
   "outputs": [
    {
     "data": {
      "text/plain": [
       "[<matplotlib.lines.Line2D at 0x7f19407f30a0>]"
      ]
     },
     "execution_count": 217,
     "metadata": {},
     "output_type": "execute_result"
    },
    {
     "data": {
      "image/png": "[encoded data removed]",
      "text/plain": [
       "<Figure size 432x288 with 1 Axes>"
      ]
     },
     "metadata": {
      "needs_background": "light"
     },
     "output_type": "display_data"
    }
   ],
   "source": [
    "traj = sample_rw(a = \"norm\", l=\"norm\")\n",
    "\n",
    "plt.plot(traj[:,0],traj[:,1])"
   ]
  },
  {
   "cell_type": "code",
   "execution_count": 218,
   "metadata": {},
   "outputs": [],
   "source": [
    "num_generate=4000"
   ]
  },
  {
   "cell_type": "code",
   "execution_count": 219,
   "metadata": {},
   "outputs": [
    {
     "name": "stderr",
     "output_type": "stream",
     "text": [
      "100%|██████████| 4000/4000 [01:14<00:00, 53.46it/s]\n"
     ]
    }
   ],
   "source": [
    "random_walks = []\n",
    "for i in tqdm(range(num_generate)):\n",
    "    random_walks.append(sample_rw(a=\"norm\",l=\"norm\"))"
   ]
  },
  {
   "cell_type": "code",
   "execution_count": 224,
   "metadata": {},
   "outputs": [],
   "source": [
    "random_walks = np.asarray(random_walks)"
   ]
  },
  {
   "cell_type": "code",
   "execution_count": 225,
   "metadata": {},
   "outputs": [
    {
     "name": "stdout",
     "output_type": "stream",
     "text": [
      "(4000, 1500, 3)\n"
     ]
    }
   ],
   "source": [
    "print(np.shape(random_walks))\n"
   ]
  },
  {
   "cell_type": "code",
   "execution_count": 226,
   "metadata": {},
   "outputs": [
    {
     "data": {
      "image/png": "[encoded data removed]",
      "text/plain": [
       "<Figure size 432x288 with 1 Axes>"
      ]
     },
     "metadata": {
      "needs_background": "light"
     },
     "output_type": "display_data"
    }
   ],
   "source": [
    "rw_speed = []\n",
    "\n",
    "for i in range(num_generate):\n",
    "    rs_tmp = get_speed_rw(random_walks[i,:,:])\n",
    "    rw_speed.append(np.mean(rs_tmp))\n",
    "# rw_speed  = [item for sublist in s for item in sublist]\n",
    "\n",
    "\n",
    "plt.hist(dat_avg['average_speed'],bins = 50, label=\"Real Data\")\n",
    "plt.hist(rw_speed, bins= 50, label=\"Random Walk Data\")\n",
    "plt.title(\"Comparison of Average Speed in a trajectory\")\n",
    "plt.legend()\n",
    "plt.savefig(\"speed_rw.png\")"
   ]
  },
  {
   "cell_type": "code",
   "execution_count": 231,
   "metadata": {},
   "outputs": [
    {
     "data": {
      "image/png": "[encoded data removed]",
      "text/plain": [
       "<Figure size 432x288 with 1 Axes>"
      ]
     },
     "metadata": {
      "needs_background": "light"
     },
     "output_type": "display_data"
    }
   ],
   "source": [
    "rw_ang = []\n",
    "\n",
    "for i in range(num_generate):\n",
    "    rs_tmp = get_angle_rw(random_walks[i,:,:], convert_to_degrees = True)\n",
    "    rw_ang.append(10*np.mean(rs_tmp))\n",
    "# rw_speed  = [item for sublist in s for item in sublist]\n",
    "\n",
    "plt.hist(dat_avg['average_angle'],bins = 50, label=\"Real Data\",alpha=0.5)\n",
    "plt.hist(rw_ang, bins= 50, label=\"Random Walk Data\",alpha=0.5)\n",
    "plt.title(\"Comparison of Average Angle (in degrees)\")\n",
    "plt.legend()\n",
    "plt.savefig(\"angle_rw.png\")"
   ]
  },
  {
   "cell_type": "code",
   "execution_count": 232,
   "metadata": {},
   "outputs": [],
   "source": [
    "rw_ind = [i for i in range(num_generate) for j in range(1500)]\n",
    "rw_ind = np.reshape(rw_ind, (len(rw_ind),1))\n",
    "rw_reshape = np.reshape(random_walks, (1500*num_generate, 3))\n",
    "all_data = np.append(rw_reshape, rw_ind, 1)\n",
    "all_data[:,2] = all_data[:,2]*100\n",
    "\n",
    "rw_pd = pd.DataFrame(all_data, columns=[\"x\",'y','t','user'])\n",
    "# rw_pd = pd.Dataframe(all_data, latitude=1, longitude=2, datetime=3, user_id=4)\n",
    "\n",
    "tdf = skmob.TrajDataFrame(rw_pd, latitude='x',longitude='y',datetime='t',user_id='user')\n",
    "\n"
   ]
  },
  {
   "cell_type": "code",
   "execution_count": 235,
   "metadata": {},
   "outputs": [
    {
     "name": "stderr",
     "output_type": "stream",
     "text": [
      "100%|██████████| 4000/4000 [00:38<00:00, 104.00it/s]\n"
     ]
    },
    {
     "data": {
      "image/png": "[encoded data removed]",
      "text/plain": [
       "<Figure size 432x288 with 1 Axes>"
      ]
     },
     "metadata": {
      "needs_background": "light"
     },
     "output_type": "display_data"
    }
   ],
   "source": [
    "dsl_df = distance_straight_line(tdf)"
   ]
  },
  {
   "cell_type": "code",
   "execution_count": 256,
   "metadata": {},
   "outputs": [
    {
     "data": {
      "image/png": "[encoded data removed]",
      "text/plain": [
       "<Figure size 432x288 with 1 Axes>"
      ]
     },
     "metadata": {
      "needs_background": "light"
     },
     "output_type": "display_data"
    }
   ],
   "source": [
    "plt_data = dsl_df['distance_straight_line']*100\n",
    "plt.hist(dat_avg['dist_traveled'],bins=50, label=\"Real Data\")\n",
    "plt.hist(plt_data,bins=50, label=\"Random Walk Data\")\n",
    "plt.title(\"Comparison of Straight Line Distance\")\n",
    "plt.legend()\n",
    "plt.savefig(\"line_dist_rw.png\")"
   ]
  },
  {
   "cell_type": "code",
   "execution_count": 237,
   "metadata": {},
   "outputs": [
    {
     "name": "stderr",
     "output_type": "stream",
     "text": [
      "100%|██████████| 4000/4000 [00:39<00:00, 101.31it/s]\n"
     ]
    }
   ],
   "source": [
    "md_df = maximum_distance(tdf)\n"
   ]
  },
  {
   "cell_type": "code",
   "execution_count": 243,
   "metadata": {},
   "outputs": [
    {
     "data": {
      "image/png": "[encoded data removed]",
      "text/plain": [
       "<Figure size 432x288 with 1 Axes>"
      ]
     },
     "metadata": {
      "needs_background": "light"
     },
     "output_type": "display_data"
    }
   ],
   "source": [
    "plt_data = md_df['maximum_distance']\n",
    "plt.hist(dat_avg['max_dist'],bins=50, label=\"Real Data\")\n",
    "plt.hist(plt_data,bins=50, label=\"Random Walk Data\")\n",
    "plt.title(\"Comparison of Maximum distance between any two points\")\n",
    "plt.legend()\n",
    "plt.savefig(\"max_dist_rw.png\")"
   ]
  },
  {
   "cell_type": "code",
   "execution_count": 257,
   "metadata": {},
   "outputs": [
    {
     "name": "stderr",
     "output_type": "stream",
     "text": [
      "  9%|▊         | 344/4000 [06:12<1:05:59,  1.08s/it]\n"
     ]
    },
    {
     "ename": "KeyboardInterrupt",
     "evalue": "",
     "output_type": "error",
     "traceback": [
      "\u001b[0;31m---------------------------------------------------------------------------\u001b[0m",
      "\u001b[0;31mKeyboardInterrupt\u001b[0m                         Traceback (most recent call last)",
      "\u001b[0;32m<ipython-input-257-99e2e8b481d6>\u001b[0m in \u001b[0;36m<module>\u001b[0;34m\u001b[0m\n\u001b[1;32m      5\u001b[0m     \u001b[0;32mfor\u001b[0m \u001b[0mj\u001b[0m \u001b[0;32min\u001b[0m \u001b[0mrange\u001b[0m\u001b[0;34m(\u001b[0m\u001b[0;36m1\u001b[0m\u001b[0;34m,\u001b[0m\u001b[0;36m1499\u001b[0m\u001b[0;34m,\u001b[0m\u001b[0mstep_size\u001b[0m\u001b[0;34m)\u001b[0m\u001b[0;34m:\u001b[0m\u001b[0;34m\u001b[0m\u001b[0;34m\u001b[0m\u001b[0m\n\u001b[1;32m      6\u001b[0m         \u001b[0mp1\u001b[0m \u001b[0;34m=\u001b[0m \u001b[0mrw_pd\u001b[0m\u001b[0;34m[\u001b[0m\u001b[0mrw_pd\u001b[0m\u001b[0;34m[\u001b[0m\u001b[0;34m'user'\u001b[0m\u001b[0;34m]\u001b[0m\u001b[0;34m==\u001b[0m\u001b[0mi\u001b[0m\u001b[0;34m]\u001b[0m\u001b[0;34m.\u001b[0m\u001b[0miloc\u001b[0m\u001b[0;34m[\u001b[0m\u001b[0;36m0\u001b[0m\u001b[0;34m]\u001b[0m\u001b[0;34m[\u001b[0m\u001b[0;34m[\u001b[0m\u001b[0;34m'x'\u001b[0m\u001b[0;34m,\u001b[0m\u001b[0;34m'y'\u001b[0m\u001b[0;34m]\u001b[0m\u001b[0;34m]\u001b[0m\u001b[0;34m\u001b[0m\u001b[0;34m\u001b[0m\u001b[0m\n\u001b[0;32m----> 7\u001b[0;31m         \u001b[0mp2\u001b[0m \u001b[0;34m=\u001b[0m \u001b[0mrw_pd\u001b[0m\u001b[0;34m[\u001b[0m\u001b[0mrw_pd\u001b[0m\u001b[0;34m[\u001b[0m\u001b[0;34m'user'\u001b[0m\u001b[0;34m]\u001b[0m\u001b[0;34m==\u001b[0m\u001b[0mi\u001b[0m\u001b[0;34m]\u001b[0m\u001b[0;34m.\u001b[0m\u001b[0miloc\u001b[0m\u001b[0;34m[\u001b[0m\u001b[0;36m1499\u001b[0m\u001b[0;34m]\u001b[0m\u001b[0;34m[\u001b[0m\u001b[0;34m[\u001b[0m\u001b[0;34m'x'\u001b[0m\u001b[0;34m,\u001b[0m\u001b[0;34m'y'\u001b[0m\u001b[0;34m]\u001b[0m\u001b[0;34m]\u001b[0m\u001b[0;34m\u001b[0m\u001b[0;34m\u001b[0m\u001b[0m\n\u001b[0m\u001b[1;32m      8\u001b[0m         \u001b[0mp3\u001b[0m \u001b[0;34m=\u001b[0m \u001b[0mrw_pd\u001b[0m\u001b[0;34m[\u001b[0m\u001b[0mrw_pd\u001b[0m\u001b[0;34m[\u001b[0m\u001b[0;34m'user'\u001b[0m\u001b[0;34m]\u001b[0m\u001b[0;34m==\u001b[0m\u001b[0mi\u001b[0m\u001b[0;34m]\u001b[0m\u001b[0;34m.\u001b[0m\u001b[0miloc\u001b[0m\u001b[0;34m[\u001b[0m\u001b[0mj\u001b[0m\u001b[0;34m]\u001b[0m\u001b[0;34m[\u001b[0m\u001b[0;34m[\u001b[0m\u001b[0;34m'x'\u001b[0m\u001b[0;34m,\u001b[0m\u001b[0;34m'y'\u001b[0m\u001b[0;34m]\u001b[0m\u001b[0;34m]\u001b[0m\u001b[0;34m\u001b[0m\u001b[0;34m\u001b[0m\u001b[0m\n\u001b[1;32m      9\u001b[0m         \u001b[0md_tmp\u001b[0m \u001b[0;34m+=\u001b[0m \u001b[0mnorm\u001b[0m\u001b[0;34m(\u001b[0m\u001b[0mnp\u001b[0m\u001b[0;34m.\u001b[0m\u001b[0mcross\u001b[0m\u001b[0;34m(\u001b[0m\u001b[0mp2\u001b[0m\u001b[0;34m-\u001b[0m\u001b[0mp1\u001b[0m\u001b[0;34m,\u001b[0m \u001b[0mp1\u001b[0m\u001b[0;34m-\u001b[0m\u001b[0mp3\u001b[0m\u001b[0;34m)\u001b[0m\u001b[0;34m)\u001b[0m\u001b[0;34m/\u001b[0m\u001b[0mnorm\u001b[0m\u001b[0;34m(\u001b[0m\u001b[0mp2\u001b[0m\u001b[0;34m-\u001b[0m\u001b[0mp1\u001b[0m\u001b[0;34m)\u001b[0m\u001b[0;34m\u001b[0m\u001b[0;34m\u001b[0m\u001b[0m\n",
      "\u001b[0;32m~/anaconda3/lib/python3.8/site-packages/pandas/core/frame.py\u001b[0m in \u001b[0;36m__getitem__\u001b[0;34m(self, key)\u001b[0m\n\u001b[1;32m   2891\u001b[0m         \u001b[0;31m# Do we have a (boolean) 1d indexer?\u001b[0m\u001b[0;34m\u001b[0m\u001b[0;34m\u001b[0m\u001b[0;34m\u001b[0m\u001b[0m\n\u001b[1;32m   2892\u001b[0m         \u001b[0;32mif\u001b[0m \u001b[0mcom\u001b[0m\u001b[0;34m.\u001b[0m\u001b[0mis_bool_indexer\u001b[0m\u001b[0;34m(\u001b[0m\u001b[0mkey\u001b[0m\u001b[0;34m)\u001b[0m\u001b[0;34m:\u001b[0m\u001b[0;34m\u001b[0m\u001b[0;34m\u001b[0m\u001b[0m\n\u001b[0;32m-> 2893\u001b[0;31m             \u001b[0;32mreturn\u001b[0m \u001b[0mself\u001b[0m\u001b[0;34m.\u001b[0m\u001b[0m_getitem_bool_array\u001b[0m\u001b[0;34m(\u001b[0m\u001b[0mkey\u001b[0m\u001b[0;34m)\u001b[0m\u001b[0;34m\u001b[0m\u001b[0;34m\u001b[0m\u001b[0m\n\u001b[0m\u001b[1;32m   2894\u001b[0m \u001b[0;34m\u001b[0m\u001b[0m\n\u001b[1;32m   2895\u001b[0m         \u001b[0;31m# We are left with two options: a single key, and a collection of keys,\u001b[0m\u001b[0;34m\u001b[0m\u001b[0;34m\u001b[0m\u001b[0;34m\u001b[0m\u001b[0m\n",
      "\u001b[0;32m~/anaconda3/lib/python3.8/site-packages/pandas/core/frame.py\u001b[0m in \u001b[0;36m_getitem_bool_array\u001b[0;34m(self, key)\u001b[0m\n\u001b[1;32m   2943\u001b[0m         \u001b[0;31m# check_bool_indexer will throw exception if Series key cannot\u001b[0m\u001b[0;34m\u001b[0m\u001b[0;34m\u001b[0m\u001b[0;34m\u001b[0m\u001b[0m\n\u001b[1;32m   2944\u001b[0m         \u001b[0;31m# be reindexed to match DataFrame rows\u001b[0m\u001b[0;34m\u001b[0m\u001b[0;34m\u001b[0m\u001b[0;34m\u001b[0m\u001b[0m\n\u001b[0;32m-> 2945\u001b[0;31m         \u001b[0mkey\u001b[0m \u001b[0;34m=\u001b[0m \u001b[0mcheck_bool_indexer\u001b[0m\u001b[0;34m(\u001b[0m\u001b[0mself\u001b[0m\u001b[0;34m.\u001b[0m\u001b[0mindex\u001b[0m\u001b[0;34m,\u001b[0m \u001b[0mkey\u001b[0m\u001b[0;34m)\u001b[0m\u001b[0;34m\u001b[0m\u001b[0;34m\u001b[0m\u001b[0m\n\u001b[0m\u001b[1;32m   2946\u001b[0m         \u001b[0mindexer\u001b[0m \u001b[0;34m=\u001b[0m \u001b[0mkey\u001b[0m\u001b[0;34m.\u001b[0m\u001b[0mnonzero\u001b[0m\u001b[0;34m(\u001b[0m\u001b[0;34m)\u001b[0m\u001b[0;34m[\u001b[0m\u001b[0;36m0\u001b[0m\u001b[0;34m]\u001b[0m\u001b[0;34m\u001b[0m\u001b[0;34m\u001b[0m\u001b[0m\n\u001b[1;32m   2947\u001b[0m         \u001b[0;32mreturn\u001b[0m \u001b[0mself\u001b[0m\u001b[0;34m.\u001b[0m\u001b[0m_take_with_is_copy\u001b[0m\u001b[0;34m(\u001b[0m\u001b[0mindexer\u001b[0m\u001b[0;34m,\u001b[0m \u001b[0maxis\u001b[0m\u001b[0;34m=\u001b[0m\u001b[0;36m0\u001b[0m\u001b[0;34m)\u001b[0m\u001b[0;34m\u001b[0m\u001b[0;34m\u001b[0m\u001b[0m\n",
      "\u001b[0;32m~/anaconda3/lib/python3.8/site-packages/pandas/core/indexing.py\u001b[0m in \u001b[0;36mcheck_bool_indexer\u001b[0;34m(index, key)\u001b[0m\n\u001b[1;32m   2195\u001b[0m         \u001b[0;31m# key may contain nan elements, check_array_indexer needs bool array\u001b[0m\u001b[0;34m\u001b[0m\u001b[0;34m\u001b[0m\u001b[0;34m\u001b[0m\u001b[0m\n\u001b[1;32m   2196\u001b[0m         \u001b[0mresult\u001b[0m \u001b[0;34m=\u001b[0m \u001b[0mpd_array\u001b[0m\u001b[0;34m(\u001b[0m\u001b[0mresult\u001b[0m\u001b[0;34m,\u001b[0m \u001b[0mdtype\u001b[0m\u001b[0;34m=\u001b[0m\u001b[0mbool\u001b[0m\u001b[0;34m)\u001b[0m\u001b[0;34m\u001b[0m\u001b[0;34m\u001b[0m\u001b[0m\n\u001b[0;32m-> 2197\u001b[0;31m     \u001b[0;32mreturn\u001b[0m \u001b[0mcheck_array_indexer\u001b[0m\u001b[0;34m(\u001b[0m\u001b[0mindex\u001b[0m\u001b[0;34m,\u001b[0m \u001b[0mresult\u001b[0m\u001b[0;34m)\u001b[0m\u001b[0;34m\u001b[0m\u001b[0;34m\u001b[0m\u001b[0m\n\u001b[0m\u001b[1;32m   2198\u001b[0m \u001b[0;34m\u001b[0m\u001b[0m\n\u001b[1;32m   2199\u001b[0m \u001b[0;34m\u001b[0m\u001b[0m\n",
      "\u001b[0;32m~/anaconda3/lib/python3.8/site-packages/pandas/core/indexers.py\u001b[0m in \u001b[0;36mcheck_array_indexer\u001b[0;34m(array, indexer)\u001b[0m\n\u001b[1;32m    464\u001b[0m             \u001b[0mindexer\u001b[0m \u001b[0;34m=\u001b[0m \u001b[0mindexer\u001b[0m\u001b[0;34m.\u001b[0m\u001b[0mto_numpy\u001b[0m\u001b[0;34m(\u001b[0m\u001b[0mdtype\u001b[0m\u001b[0;34m=\u001b[0m\u001b[0mbool\u001b[0m\u001b[0;34m,\u001b[0m \u001b[0mna_value\u001b[0m\u001b[0;34m=\u001b[0m\u001b[0;32mFalse\u001b[0m\u001b[0;34m)\u001b[0m\u001b[0;34m\u001b[0m\u001b[0;34m\u001b[0m\u001b[0m\n\u001b[1;32m    465\u001b[0m         \u001b[0;32melse\u001b[0m\u001b[0;34m:\u001b[0m\u001b[0;34m\u001b[0m\u001b[0;34m\u001b[0m\u001b[0m\n\u001b[0;32m--> 466\u001b[0;31m             \u001b[0mindexer\u001b[0m \u001b[0;34m=\u001b[0m \u001b[0mnp\u001b[0m\u001b[0;34m.\u001b[0m\u001b[0masarray\u001b[0m\u001b[0;34m(\u001b[0m\u001b[0mindexer\u001b[0m\u001b[0;34m,\u001b[0m \u001b[0mdtype\u001b[0m\u001b[0;34m=\u001b[0m\u001b[0mbool\u001b[0m\u001b[0;34m)\u001b[0m\u001b[0;34m\u001b[0m\u001b[0;34m\u001b[0m\u001b[0m\n\u001b[0m\u001b[1;32m    467\u001b[0m \u001b[0;34m\u001b[0m\u001b[0m\n\u001b[1;32m    468\u001b[0m         \u001b[0;31m# GH26658\u001b[0m\u001b[0;34m\u001b[0m\u001b[0;34m\u001b[0m\u001b[0;34m\u001b[0m\u001b[0m\n",
      "\u001b[0;32m~/anaconda3/lib/python3.8/site-packages/numpy/core/_asarray.py\u001b[0m in \u001b[0;36masarray\u001b[0;34m(a, dtype, order)\u001b[0m\n\u001b[1;32m     81\u001b[0m \u001b[0;34m\u001b[0m\u001b[0m\n\u001b[1;32m     82\u001b[0m     \"\"\"\n\u001b[0;32m---> 83\u001b[0;31m     \u001b[0;32mreturn\u001b[0m \u001b[0marray\u001b[0m\u001b[0;34m(\u001b[0m\u001b[0ma\u001b[0m\u001b[0;34m,\u001b[0m \u001b[0mdtype\u001b[0m\u001b[0;34m,\u001b[0m \u001b[0mcopy\u001b[0m\u001b[0;34m=\u001b[0m\u001b[0;32mFalse\u001b[0m\u001b[0;34m,\u001b[0m \u001b[0morder\u001b[0m\u001b[0;34m=\u001b[0m\u001b[0morder\u001b[0m\u001b[0;34m)\u001b[0m\u001b[0;34m\u001b[0m\u001b[0;34m\u001b[0m\u001b[0m\n\u001b[0m\u001b[1;32m     84\u001b[0m \u001b[0;34m\u001b[0m\u001b[0m\n\u001b[1;32m     85\u001b[0m \u001b[0;34m\u001b[0m\u001b[0m\n",
      "\u001b[0;32m~/anaconda3/lib/python3.8/site-packages/pandas/core/series.py\u001b[0m in \u001b[0;36m__array__\u001b[0;34m(self, dtype)\u001b[0m\n\u001b[1;32m    795\u001b[0m               dtype='datetime64[ns]')\n\u001b[1;32m    796\u001b[0m         \"\"\"\n\u001b[0;32m--> 797\u001b[0;31m         \u001b[0;32mreturn\u001b[0m \u001b[0mnp\u001b[0m\u001b[0;34m.\u001b[0m\u001b[0masarray\u001b[0m\u001b[0;34m(\u001b[0m\u001b[0mself\u001b[0m\u001b[0;34m.\u001b[0m\u001b[0marray\u001b[0m\u001b[0;34m,\u001b[0m \u001b[0mdtype\u001b[0m\u001b[0;34m)\u001b[0m\u001b[0;34m\u001b[0m\u001b[0;34m\u001b[0m\u001b[0m\n\u001b[0m\u001b[1;32m    798\u001b[0m \u001b[0;34m\u001b[0m\u001b[0m\n\u001b[1;32m    799\u001b[0m     \u001b[0;31m# ----------------------------------------------------------------------\u001b[0m\u001b[0;34m\u001b[0m\u001b[0;34m\u001b[0m\u001b[0;34m\u001b[0m\u001b[0m\n",
      "\u001b[0;32m~/anaconda3/lib/python3.8/site-packages/pandas/core/series.py\u001b[0m in \u001b[0;36marray\u001b[0;34m(self)\u001b[0m\n\u001b[1;32m    575\u001b[0m     \u001b[0;34m@\u001b[0m\u001b[0mproperty\u001b[0m\u001b[0;34m\u001b[0m\u001b[0;34m\u001b[0m\u001b[0m\n\u001b[1;32m    576\u001b[0m     \u001b[0;32mdef\u001b[0m \u001b[0marray\u001b[0m\u001b[0;34m(\u001b[0m\u001b[0mself\u001b[0m\u001b[0;34m)\u001b[0m \u001b[0;34m->\u001b[0m \u001b[0mExtensionArray\u001b[0m\u001b[0;34m:\u001b[0m\u001b[0;34m\u001b[0m\u001b[0;34m\u001b[0m\u001b[0m\n\u001b[0;32m--> 577\u001b[0;31m         \u001b[0;32mreturn\u001b[0m \u001b[0mself\u001b[0m\u001b[0;34m.\u001b[0m\u001b[0m_mgr\u001b[0m\u001b[0;34m.\u001b[0m\u001b[0m_block\u001b[0m\u001b[0;34m.\u001b[0m\u001b[0marray_values\u001b[0m\u001b[0;34m(\u001b[0m\u001b[0;34m)\u001b[0m\u001b[0;34m\u001b[0m\u001b[0;34m\u001b[0m\u001b[0m\n\u001b[0m\u001b[1;32m    578\u001b[0m \u001b[0;34m\u001b[0m\u001b[0m\n\u001b[1;32m    579\u001b[0m     \u001b[0;31m# ops\u001b[0m\u001b[0;34m\u001b[0m\u001b[0;34m\u001b[0m\u001b[0;34m\u001b[0m\u001b[0m\n",
      "\u001b[0;32m~/anaconda3/lib/python3.8/site-packages/pandas/core/internals/blocks.py\u001b[0m in \u001b[0;36marray_values\u001b[0;34m(self)\u001b[0m\n\u001b[1;32m    209\u001b[0m         \u001b[0mThe\u001b[0m \u001b[0marray\u001b[0m \u001b[0mthat\u001b[0m \u001b[0mSeries\u001b[0m\u001b[0;34m.\u001b[0m\u001b[0marray\u001b[0m \u001b[0mreturns\u001b[0m\u001b[0;34m.\u001b[0m \u001b[0mAlways\u001b[0m \u001b[0man\u001b[0m \u001b[0mExtensionArray\u001b[0m\u001b[0;34m.\u001b[0m\u001b[0;34m\u001b[0m\u001b[0;34m\u001b[0m\u001b[0m\n\u001b[1;32m    210\u001b[0m         \"\"\"\n\u001b[0;32m--> 211\u001b[0;31m         \u001b[0;32mreturn\u001b[0m \u001b[0mPandasArray\u001b[0m\u001b[0;34m(\u001b[0m\u001b[0mself\u001b[0m\u001b[0;34m.\u001b[0m\u001b[0mvalues\u001b[0m\u001b[0;34m)\u001b[0m\u001b[0;34m\u001b[0m\u001b[0;34m\u001b[0m\u001b[0m\n\u001b[0m\u001b[1;32m    212\u001b[0m \u001b[0;34m\u001b[0m\u001b[0m\n\u001b[1;32m    213\u001b[0m     \u001b[0;32mdef\u001b[0m \u001b[0mget_values\u001b[0m\u001b[0;34m(\u001b[0m\u001b[0mself\u001b[0m\u001b[0;34m,\u001b[0m \u001b[0mdtype\u001b[0m\u001b[0;34m=\u001b[0m\u001b[0;32mNone\u001b[0m\u001b[0;34m)\u001b[0m\u001b[0;34m:\u001b[0m\u001b[0;34m\u001b[0m\u001b[0;34m\u001b[0m\u001b[0m\n",
      "\u001b[0;32m~/anaconda3/lib/python3.8/site-packages/pandas/core/arrays/numpy_.py\u001b[0m in \u001b[0;36m__init__\u001b[0;34m(self, values, copy)\u001b[0m\n\u001b[1;32m    168\u001b[0m             )\n\u001b[1;32m    169\u001b[0m \u001b[0;34m\u001b[0m\u001b[0m\n\u001b[0;32m--> 170\u001b[0;31m         \u001b[0;32mif\u001b[0m \u001b[0mvalues\u001b[0m\u001b[0;34m.\u001b[0m\u001b[0mndim\u001b[0m \u001b[0;34m!=\u001b[0m \u001b[0;36m1\u001b[0m\u001b[0;34m:\u001b[0m\u001b[0;34m\u001b[0m\u001b[0;34m\u001b[0m\u001b[0m\n\u001b[0m\u001b[1;32m    171\u001b[0m             \u001b[0;32mraise\u001b[0m \u001b[0mValueError\u001b[0m\u001b[0;34m(\u001b[0m\u001b[0;34m\"PandasArray must be 1-dimensional.\"\u001b[0m\u001b[0;34m)\u001b[0m\u001b[0;34m\u001b[0m\u001b[0;34m\u001b[0m\u001b[0m\n\u001b[1;32m    172\u001b[0m \u001b[0;34m\u001b[0m\u001b[0m\n",
      "\u001b[0;31mKeyboardInterrupt\u001b[0m: "
     ]
    }
   ],
   "source": [
    "d_sl = []\n",
    "step_size = 50\n",
    "for i in tqdm(range(num_generate)):\n",
    "    d_tmp = 0\n",
    "    for j in range(1,1499,step_size):\n",
    "        p1 = rw_pd[rw_pd['user']==i].iloc[0][['x','y']]\n",
    "        p2 = rw_pd[rw_pd['user']==i].iloc[1499][['x','y']]\n",
    "        p3 = rw_pd[rw_pd['user']==i].iloc[j][['x','y']]\n",
    "        d_tmp += norm(np.cross(p2-p1, p1-p3))/norm(p2-p1)\n",
    "    d_sl.append(d_tmp)\n",
    "    \n",
    "plt.hist(dat_avg['dist_to_line'],bins=50, label=\"Real Data\")\n",
    "plt.hist(d_sl, bins=50, label=\"Random Walk Data\")\n",
    "plt.title(\"Comparison of Distance to a straight line\")\n",
    "plt.legend()\n",
    "plt.savefig(\"max_dist_rw.png\")"
   ]
  },
  {
   "cell_type": "code",
   "execution_count": null,
   "metadata": {},
   "outputs": [],
   "source": [
    "dc = []\n",
    "for i in tqdm(range(num_generate)):\n",
    "    ang = get_angle_rw(np.asarray(rw_pd[rw_pd['user']==i]))\n",
    "    dc.append(get_change_dir(ang))\n",
    "    \n",
    "    \n",
    "    \n",
    "plt.hist(dat_avg['direction_changes'],bins=50, label=\"Real Data\")\n",
    "plt.hist(dc,bins=50, label=\"Random Walk Data\")\n",
    "plt.title(\"Comparison of Direction Changes\")\n",
    "plt.legend()\n",
    "plt.savefig(\"dir_changes_rw.png\")"
   ]
  },
  {
   "cell_type": "code",
   "execution_count": null,
   "metadata": {},
   "outputs": [],
   "source": []
  }
 ],
 "metadata": {
  "kernelspec": {
   "display_name": "Python 3",
   "language": "python",
   "name": "python3"
  },
  "language_info": {
   "codemirror_mode": {
    "name": "ipython",
    "version": 3
   },
   "file_extension": ".py",
   "mimetype": "text/x-python",
   "name": "python",
   "nbconvert_exporter": "python",
   "pygments_lexer": "ipython3",
   "version": "3.8.5"
  }
 },
 "nbformat": 4,
 "nbformat_minor": 4
}
