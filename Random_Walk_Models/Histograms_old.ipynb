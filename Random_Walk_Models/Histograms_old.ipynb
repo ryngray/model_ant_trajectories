{
 "cells": [
  {
   "cell_type": "code",
   "execution_count": 2,
   "metadata": {
    "scrolled": true
   },
   "outputs": [
    {
     "name": "stderr",
     "output_type": "stream",
     "text": [
      "/home/ryn/anaconda3/lib/python3.8/site-packages/tqdm/std.py:697: FutureWarning: The Panel class is removed from pandas. Accessing it from the top-level namespace will also be removed in the next version\n",
      "  from pandas import Panel\n"
     ]
    }
   ],
   "source": [
    "import numpy as np\n",
    "import pandas as pd\n",
    "import matplotlib.pyplot as plt\n",
    "import skmob\n",
    "from scipy import stats\n",
    "from skmob.measures.individual import distance_straight_line, maximum_distance, number_of_visits, waiting_times, real_entropy\n",
    "import math\n",
    "from tqdm import tqdm\n",
    "from numpy.linalg import norm\n",
    "import traja\n"
   ]
  },
  {
   "cell_type": "code",
   "execution_count": 3,
   "metadata": {},
   "outputs": [],
   "source": [
    "def ccw(A,B,C):\n",
    "    return ((C[1]-A[1]) * (B[0]-A[0]) > (B[1]-A[1]) * (C[0]-A[0]))\n",
    "\n",
    "# Return true if line segments AB and CD intersect\n",
    "def intersect(A,B,C,D):\n",
    "    return (ccw(A,C,D) != ccw(B,C,D) and ccw(A,B,C) != ccw(A,B,D))\n",
    "\n",
    "def get_crossings(a,get_crossings_vals = False):\n",
    "    a = np.asarray(a)\n",
    "    count = 0\n",
    "    ni = 0\n",
    "    crossings =[]\n",
    "    for i in range(len(a)-1):\n",
    "        for j in range(i+2, len(a)-1):\n",
    "            A = [a[i][0], a[i][1]]\n",
    "            B = [a[i+1][0], a[i+1][1]]\n",
    "            C = [a[j][0], a[j][1]]\n",
    "            D = [a[j+1][0], a[j+1][1]]\n",
    "            if(intersect(A,B,C,D)):\n",
    "                count += 1\n",
    "                if(get_crossings_vals):\n",
    "                    crossings.append([A,B,C,D])\n",
    "            else:\n",
    "                ni += 1\n",
    "    if(get_crossings_vals):\n",
    "        return [count, crossings]\n",
    "    return count\n",
    "            \n",
    " "
   ]
  },
  {
   "cell_type": "code",
   "execution_count": 4,
   "metadata": {},
   "outputs": [],
   "source": [
    "def triangle_area(arr, step_size = 1):\n",
    "    if(step_size == 0):\n",
    "        print(\"Cannot have step size be 0\")\n",
    "    tot_area = 0\n",
    "    for i in range(len(arr)):\n",
    "        [x1,y1,t] = arr[i]\n",
    "        [x2,y2,t] = arr[i+step_size]\n",
    "        try:\n",
    "            [x3,y3,t] = arr[i+2*step_size]\n",
    "        except:\n",
    "            return tot_area\n",
    "        Area = 1/2 *(x1*abs(y2 - y3) + x2*abs(y3 - y1) + x3*abs(y1 - y2))\n",
    "        tot_area += Area\n",
    "    return tot_area"
   ]
  },
  {
   "cell_type": "code",
   "execution_count": 5,
   "metadata": {},
   "outputs": [],
   "source": [
    "def get_change_dir(a):\n",
    "    a = np.asarray(a)\n",
    "    asign = np.sign(a)\n",
    "    signchange = ((np.roll(asign, 1) - asign) != 0).astype(int)\n",
    "    signchange[0]=0\n",
    "    return sum(signchange)"
   ]
  },
  {
   "cell_type": "code",
   "execution_count": 6,
   "metadata": {},
   "outputs": [],
   "source": [
    "def max_from_start(a):\n",
    "    dists = []\n",
    "    return max(abs(a-a[0]))"
   ]
  },
  {
   "cell_type": "code",
   "execution_count": 7,
   "metadata": {},
   "outputs": [],
   "source": [
    "def calcAngle(lineA,lineB):\n",
    "    lineA = np.asarray(lineA)\n",
    "    lineB = np.asarray(lineB)\n",
    "    line1Y1 = lineA[1]\n",
    "    line1X1 = lineA[0]\n",
    "    line1Y2 = lineA[3]\n",
    "    line1X2 = lineA[2]\n",
    "\n",
    "    line2Y1 = lineB[1]\n",
    "    line2X1 = lineB[0]\n",
    "    line2Y2 = lineB[3]\n",
    "    line2X2 = lineB[2]\n",
    "#     print(lineA)\n",
    "\n",
    "    #calculate angle between pairs of lines\n",
    "    angle1 = math.atan2(line1Y1-line1Y2,line1X1-line1X2)\n",
    "    angle2 = math.atan2(line2Y1-line2Y2,line2X1-line2X2)\n",
    "    angleDegrees = (angle1-angle2) * 360 / (2*math.pi)\n",
    "    return angleDegrees\n",
    "\n",
    "def get_angles(a):\n",
    "    angles = []\n",
    "    a = np.asarray(a)\n",
    "#     print(a)\n",
    "    for i in range(len(a)-2):\n",
    "        v1 = [a[i][0]]\n",
    "        ang = calcAngle([a[i][0],a[i][1],a[i+1][0],a[i+1][1]],[a[i+1][0],a[i+1][1],a[i+2][0],a[i+2][1]])\n",
    "        angles.append(ang)\n",
    "    return angles\n",
    "\n"
   ]
  },
  {
   "cell_type": "code",
   "execution_count": 8,
   "metadata": {},
   "outputs": [],
   "source": [
    "f = pd.read_csv(\"../../Minute_Trajectories_3.csv\")"
   ]
  },
  {
   "cell_type": "code",
   "execution_count": 9,
   "metadata": {},
   "outputs": [
    {
     "name": "stderr",
     "output_type": "stream",
     "text": [
      "100%|██████████| 4197/4197 [02:24<00:00, 28.96it/s]\n"
     ]
    }
   ],
   "source": [
    "newa = f[['x','y','minute_id']]\n",
    "newa = np.asarray(newa)\n",
    "angles = []\n",
    "for plotid in tqdm(np.unique(f['minute_id'])):\n",
    "    c = get_angles(newa[newa[:,2]==plotid])\n",
    "    angles.append(c)"
   ]
  },
  {
   "cell_type": "code",
   "execution_count": 10,
   "metadata": {},
   "outputs": [],
   "source": [
    "angs = []\n",
    "for i in range(4197):\n",
    "    ax = get_change_dir(angles[i])\n",
    "    angs.append(ax)"
   ]
  },
  {
   "cell_type": "code",
   "execution_count": 11,
   "metadata": {},
   "outputs": [
    {
     "name": "stdout",
     "output_type": "stream",
     "text": [
      "(1498,)\n"
     ]
    }
   ],
   "source": [
    "print(np.shape(angles[0]))"
   ]
  },
  {
   "cell_type": "code",
   "execution_count": 12,
   "metadata": {},
   "outputs": [
    {
     "name": "stdout",
     "output_type": "stream",
     "text": [
      "(4197,)\n"
     ]
    },
    {
     "data": {
      "image/png": "[encoded data removed]",
      "text/plain": [
       "<Figure size 432x288 with 1 Axes>"
      ]
     },
     "metadata": {
      "needs_background": "light"
     },
     "output_type": "display_data"
    }
   ],
   "source": [
    "print(np.shape(np.mean(angles,axis=1)))\n",
    "plt.hist(angs,bins=50)\n",
    "plt.xlabel(\"Number of angle turns\")\n",
    "plt.ylabel(\"Number of trajectories\")\n",
    "plt.savefig(\"dir_changes.png\")"
   ]
  },
  {
   "cell_type": "code",
   "execution_count": 13,
   "metadata": {},
   "outputs": [
    {
     "name": "stdout",
     "output_type": "stream",
     "text": [
      "(4197,)\n"
     ]
    },
    {
     "data": {
      "image/png": "[encoded data removed]",
      "text/plain": [
       "<Figure size 432x288 with 1 Axes>"
      ]
     },
     "metadata": {
      "needs_background": "light"
     },
     "output_type": "display_data"
    }
   ],
   "source": [
    "print(np.shape(np.mean(angles,axis=1)))\n",
    "mean_angles = np.mean(angles,axis=1)\n",
    "plt.hist(mean_angles,bins=50)\n",
    "plt.xlabel(\"Mean of angle turns\")\n",
    "plt.ylabel(\"Number of trajectories\")\n",
    "plt.savefig(\"mean_angles.png\")"
   ]
  },
  {
   "cell_type": "code",
   "execution_count": 14,
   "metadata": {},
   "outputs": [
    {
     "data": {
      "text/plain": [
       "29.12115269957274"
      ]
     },
     "execution_count": 14,
     "metadata": {},
     "output_type": "execute_result"
    }
   ],
   "source": [
    "np.std(angles)\n",
    "# np.mean(angles)"
   ]
  },
  {
   "cell_type": "code",
   "execution_count": 15,
   "metadata": {},
   "outputs": [
    {
     "name": "stdout",
     "output_type": "stream",
     "text": [
      "(1, 1498)\n"
     ]
    },
    {
     "data": {
      "image/png": "[encoded data removed]",
      "text/plain": [
       "<Figure size 432x288 with 1 Axes>"
      ]
     },
     "metadata": {
      "needs_background": "light"
     },
     "output_type": "display_data"
    }
   ],
   "source": [
    "print(np.shape(stats.mode(angles)[0]))\n",
    "mode_angles = stats.mode(angles)[0].flatten()\n",
    "plt.hist(mode_angles,bins=50)\n",
    "plt.xlabel(\"Mode of angle turns\")\n",
    "plt.ylabel(\"Number of trajectories\")\n",
    "plt.savefig(\"mode_angles.png\")"
   ]
  },
  {
   "cell_type": "code",
   "execution_count": 16,
   "metadata": {},
   "outputs": [
    {
     "name": "stdout",
     "output_type": "stream",
     "text": [
      "(4197,)\n"
     ]
    },
    {
     "data": {
      "image/png": "[encoded data removed]",
      "text/plain": [
       "<Figure size 432x288 with 1 Axes>"
      ]
     },
     "metadata": {
      "needs_background": "light"
     },
     "output_type": "display_data"
    }
   ],
   "source": [
    "print(np.shape(np.max(angles,axis = 1)))\n",
    "max_angles = np.max(angles,axis=1)\n",
    "plt.hist(max_angles,bins=50)\n",
    "plt.xlabel(\"Max of angle turns\")\n",
    "plt.ylabel(\"Number of trajectories\")\n",
    "plt.savefig(\"max_angles.png\")"
   ]
  },
  {
   "cell_type": "code",
   "execution_count": 17,
   "metadata": {},
   "outputs": [
    {
     "name": "stdout",
     "output_type": "stream",
     "text": [
      "(6295500, 6)\n",
      "[304.08 304.12 304.16 304.2  304.24 304.28 304.32 304.36 304.4  304.44]\n"
     ]
    }
   ],
   "source": [
    "f_np = np.asarray(f)\n",
    "f_np[:, 3] = [float(x) for x in f_np[:,3]]\n",
    "f_np[:, 2] = [float(x) for x in f_np[:,2]]\n",
    "f_np[:, 1] = [float(x) for x in f_np[:,1]]\n",
    "print(np.shape(f_np))\n",
    "print(f_np[0:10,3])"
   ]
  },
  {
   "cell_type": "code",
   "execution_count": 18,
   "metadata": {},
   "outputs": [
    {
     "name": "stdout",
     "output_type": "stream",
     "text": [
      "(6295499,)\n"
     ]
    }
   ],
   "source": [
    "f_np = np.asarray(f)\n",
    "xs = np.subtract(f_np[0:-1,1],f_np[1:,1])\n",
    "ys = np.subtract(f_np[0:-1,2],f_np[1:,2])\n",
    "speed = np.divide(np.sqrt(np.add(np.power(xs, 2), np.power(ys, 2))),np.subtract(f_np[1:,3],f_np[:-1,3]))\n",
    "#speed = (np.subtract(np.power((f_np[0:-1,1]-f_np[1:,1])^2 ,(f_np[0:-1,2]-f_np[1:,2])^2))#/(f_np[0:-1,3]-f_np[1:,3])\n",
    "print(np.shape(speed))\n",
    "speed = np.insert(speed, 0,0)\n",
    "f['s'] = speed"
   ]
  },
  {
   "cell_type": "code",
   "execution_count": 19,
   "metadata": {},
   "outputs": [
    {
     "name": "stdout",
     "output_type": "stream",
     "text": [
      "(6295500, 7)\n"
     ]
    }
   ],
   "source": [
    "print(np.shape(f))"
   ]
  },
  {
   "cell_type": "code",
   "execution_count": 20,
   "metadata": {},
   "outputs": [
    {
     "data": {
      "image/png": "[encoded data removed]",
      "text/plain": [
       "<Figure size 432x288 with 1 Axes>"
      ]
     },
     "metadata": {
      "needs_background": "light"
     },
     "output_type": "display_data"
    }
   ],
   "source": [
    "s_mean = f.groupby(['minute_id']).mean()['s']\n",
    "\n",
    "plt.hist(s_mean,bins=50)\n",
    "plt.title(\"Histogram of average speed\")\n",
    "plt.xlabel(\"m/s\")\n",
    "plt.savefig(\"av_speed.png\")\n",
    "plt.show()"
   ]
  },
  {
   "cell_type": "code",
   "execution_count": 21,
   "metadata": {},
   "outputs": [
    {
     "name": "stdout",
     "output_type": "stream",
     "text": [
      "Index(['minute_id', 'x', 'y', 't', 'id', 'tmp', 's'], dtype='object')\n"
     ]
    }
   ],
   "source": [
    "print(f.keys())"
   ]
  },
  {
   "cell_type": "code",
   "execution_count": 22,
   "metadata": {},
   "outputs": [
    {
     "name": "stdout",
     "output_type": "stream",
     "text": [
      "Index(['s'], dtype='object')\n",
      "[4.876868872541091, 2.9494957196124805, 8.110342162934318, 7.827873274389306, 0.5230977442126875, 6.078889701255358, 4.51559796703805, 0.10003124511628197, 3.70856188433655, 8.028177330509173]\n"
     ]
    },
    {
     "data": {
      "image/png": "[encoded data removed]",
      "text/plain": [
       "<Figure size 432x288 with 1 Axes>"
      ]
     },
     "metadata": {
      "needs_background": "light"
     },
     "output_type": "display_data"
    }
   ],
   "source": [
    "s_only = f[['minute_id','s']]\n",
    "s_mean = s_only.groupby(['minute_id']).agg(lambda x:x.value_counts().index[0])\n",
    "print(s_mean.keys())\n",
    "# print(np.shape(s_mean['x']))\n",
    "\n",
    "# print(s_mean['x'][0:10])\n",
    "\n",
    "s_mean_rchoice = []\n",
    "for x in s_mean['s']:\n",
    "    try:\n",
    "        if(np.shape(x)[0] > 1):\n",
    "            s_mean_rchoice.append(np.random.choice(x))\n",
    "        else:\n",
    "            s_mean_rchoice.append(x)\n",
    "    except:\n",
    "        s_mean_rchoice.append(x)\n",
    "        \n",
    "print(s_mean_rchoice[0:10])\n",
    "\n",
    "plt.hist(s_mean_rchoice,bins=50)\n",
    "plt.title(\"Histogram of mode of speed\")\n",
    "plt.xlabel(\"m/s\")\n",
    "plt.savefig(\"mode_speed.png\")\n",
    "plt.show()"
   ]
  },
  {
   "cell_type": "code",
   "execution_count": 23,
   "metadata": {},
   "outputs": [
    {
     "data": {
      "image/png": "[encoded data removed]",
      "text/plain": [
       "<Figure size 432x288 with 1 Axes>"
      ]
     },
     "metadata": {
      "needs_background": "light"
     },
     "output_type": "display_data"
    }
   ],
   "source": [
    "s_mean = f.groupby(['minute_id']).max()['s']\n",
    "\n",
    "plt.hist(s_mean,bins=50)\n",
    "plt.title(\"Histogram of maximum speed\")\n",
    "plt.xlabel(\"m/s\")\n",
    "plt.savefig(\"max_speed.png\")\n",
    "plt.show()"
   ]
  },
  {
   "cell_type": "code",
   "execution_count": 52,
   "metadata": {},
   "outputs": [
    {
     "name": "stdout",
     "output_type": "stream",
     "text": [
      "(6295499,)\n"
     ]
    }
   ],
   "source": [
    "f_np = np.asarray(f)\n",
    "xs = np.subtract(f_np[0:-1,1],f_np[1:,1])\n",
    "ys = np.subtract(f_np[0:-1,2],f_np[1:,2])\n",
    "speed = np.divide(np.subtract(np.power(xs, 2), np.power(ys, 2)),np.subtract(f_np[0:-1,3],f_np[1:,3]))\n",
    "print(np.shape(speed))\n",
    "acc = np.divide(np.subtract(f_np[1:,6], f_np[:-1,6]),np.subtract(f_np[1:,3],f_np[:-1,3]))\n",
    "acc = np.insert(acc, 0,0)\n",
    "f['a'] = acc"
   ]
  },
  {
   "cell_type": "code",
   "execution_count": 53,
   "metadata": {},
   "outputs": [],
   "source": [
    "angle = np.arctan2(np.subtract(f_np[0:-1,2],f_np[1:,2]),np.subtract(f_np[0:-1,1],f_np[1:,1]))\n",
    "angle = np.insert(angle, 0,0)\n",
    "deg = [math.degrees(x) for x in angle]\n",
    "f['ang'] = deg"
   ]
  },
  {
   "cell_type": "code",
   "execution_count": 54,
   "metadata": {},
   "outputs": [
    {
     "name": "stdout",
     "output_type": "stream",
     "text": [
      "180.0\n"
     ]
    }
   ],
   "source": [
    "print(max(deg))"
   ]
  },
  {
   "cell_type": "code",
   "execution_count": 55,
   "metadata": {},
   "outputs": [
    {
     "data": {
      "image/png": "[encoded data removed]",
      "text/plain": [
       "<Figure size 432x288 with 1 Axes>"
      ]
     },
     "metadata": {
      "needs_background": "light"
     },
     "output_type": "display_data"
    }
   ],
   "source": [
    "ang_mean = f.groupby(['minute_id']).mean()['ang']\n",
    "\n",
    "plt.hist(ang_mean,bins=50)\n",
    "plt.title(\"Histogram of angles\")\n",
    "plt.xlabel(\"angle in degrees\")\n",
    "plt.savefig(\"av_ang.png\")\n",
    "plt.show()"
   ]
  },
  {
   "cell_type": "code",
   "execution_count": 23,
   "metadata": {},
   "outputs": [],
   "source": [
    "# v_mean = f.groupby(['minute_id']).mean()['v']\n",
    "\n",
    "# plt.hist(v_mean,bins=50)\n",
    "# plt.title(\"Histogram of average velocities\")\n",
    "# plt.savefig(\"av_vel.png\")\n",
    "# plt.show()"
   ]
  },
  {
   "cell_type": "code",
   "execution_count": 56,
   "metadata": {},
   "outputs": [
    {
     "data": {
      "image/png": "[encoded data removed]",
      "text/plain": [
       "<Figure size 432x288 with 1 Axes>"
      ]
     },
     "metadata": {
      "needs_background": "light"
     },
     "output_type": "display_data"
    }
   ],
   "source": [
    "a_mean = f.groupby(['minute_id']).mean()['a']\n",
    "\n",
    "plt.hist(a_mean,bins=50)\n",
    "plt.title(\"Histogram of average accelearation\")\n",
    "plt.xlabel(\"m/s^2\")\n",
    "plt.savefig(\"av_acc.png\")\n",
    "plt.show()"
   ]
  },
  {
   "cell_type": "code",
   "execution_count": 57,
   "metadata": {},
   "outputs": [
    {
     "name": "stdout",
     "output_type": "stream",
     "text": [
      "Index(['a'], dtype='object')\n",
      "[2.152669323909726, -1.8713517097921495, 0.09649251856335754, -2.9543466314533755, -0.830334888397344, -4.991277927875076, 1.2287199817697145, 4.087624693062738, -1.2956853222741775, -2.092175359247632]\n"
     ]
    },
    {
     "data": {
      "image/png": "[encoded data removed]",
      "text/plain": [
       "<Figure size 432x288 with 1 Axes>"
      ]
     },
     "metadata": {
      "needs_background": "light"
     },
     "output_type": "display_data"
    }
   ],
   "source": [
    "s_only = f[['minute_id','a']]\n",
    "s_mean = s_only.groupby(['minute_id']).agg(lambda x:x.value_counts().index[0])\n",
    "print(s_mean.keys())\n",
    "# print(np.shape(s_mean['x']))\n",
    "\n",
    "# print(s_mean['x'][0:10])\n",
    "\n",
    "s_mean_rchoice = []\n",
    "for x in s_mean['a']:\n",
    "    try:\n",
    "        if(np.shape(x)[0] > 1):\n",
    "            s_mean_rchoice.append(np.random.choice(x))\n",
    "        else:\n",
    "            s_mean_rchoice.append(x)\n",
    "    except:\n",
    "        s_mean_rchoice.append(x)\n",
    "        \n",
    "print(s_mean_rchoice[0:10])\n",
    "\n",
    "plt.hist(s_mean_rchoice,bins=50)\n",
    "plt.title(\"Histogram of mode of acceleration\")\n",
    "plt.xlabel(\"m/s\")\n",
    "plt.savefig(\"mode_acceleration.png\")\n",
    "plt.show()"
   ]
  },
  {
   "cell_type": "code",
   "execution_count": 61,
   "metadata": {},
   "outputs": [
    {
     "data": {
      "image/png": "[encoded data removed]",
      "text/plain": [
       "<Figure size 432x288 with 1 Axes>"
      ]
     },
     "metadata": {
      "needs_background": "light"
     },
     "output_type": "display_data"
    }
   ],
   "source": [
    "s_mean = f.groupby(['minute_id']).max()['a']\n",
    "\n",
    "plt.hist(s_mean,bins=50)\n",
    "plt.title(\"Histogram of maximum acceleration\")\n",
    "plt.xlabel(\"m/s\")\n",
    "plt.savefig(\"max_acceleration.png\")\n",
    "plt.show()"
   ]
  },
  {
   "cell_type": "code",
   "execution_count": 25,
   "metadata": {},
   "outputs": [],
   "source": [
    "dt = np.asarray(100*f['t'])\n",
    "f['datetime'] = dt"
   ]
  },
  {
   "cell_type": "code",
   "execution_count": 26,
   "metadata": {},
   "outputs": [],
   "source": [
    "tdf = skmob.TrajDataFrame(f, latitude='x',longitude='y',datetime=\"datetime\", user_id='minute_id')"
   ]
  },
  {
   "cell_type": "code",
   "execution_count": 27,
   "metadata": {},
   "outputs": [
    {
     "data": {
      "text/html": [
       "<div>\n",
       "<style scoped>\n",
       "    .dataframe tbody tr th:only-of-type {\n",
       "        vertical-align: middle;\n",
       "    }\n",
       "\n",
       "    .dataframe tbody tr th {\n",
       "        vertical-align: top;\n",
       "    }\n",
       "\n",
       "    .dataframe thead th {\n",
       "        text-align: right;\n",
       "    }\n",
       "</style>\n",
       "<table border=\"1\" class=\"dataframe\">\n",
       "  <thead>\n",
       "    <tr style=\"text-align: right;\">\n",
       "      <th></th>\n",
       "      <th>uid</th>\n",
       "      <th>lat</th>\n",
       "      <th>lng</th>\n",
       "      <th>t</th>\n",
       "      <th>id</th>\n",
       "      <th>tmp</th>\n",
       "      <th>s</th>\n",
       "      <th>a</th>\n",
       "      <th>ang</th>\n",
       "      <th>datetime</th>\n",
       "    </tr>\n",
       "  </thead>\n",
       "  <tbody>\n",
       "    <tr>\n",
       "      <th>0</th>\n",
       "      <td>1</td>\n",
       "      <td>2085.328</td>\n",
       "      <td>662.2738</td>\n",
       "      <td>304.08</td>\n",
       "      <td>1.0</td>\n",
       "      <td>NaN</td>\n",
       "      <td>0.000000</td>\n",
       "      <td>0.000000</td>\n",
       "      <td>0.000000</td>\n",
       "      <td>1970-01-01 00:00:00.000030408</td>\n",
       "    </tr>\n",
       "    <tr>\n",
       "      <th>1</th>\n",
       "      <td>1</td>\n",
       "      <td>2085.488</td>\n",
       "      <td>662.2914</td>\n",
       "      <td>304.12</td>\n",
       "      <td>1.0</td>\n",
       "      <td>0.040009</td>\n",
       "      <td>4.024127</td>\n",
       "      <td>100.603181</td>\n",
       "      <td>-173.722702</td>\n",
       "      <td>1970-01-01 00:00:00.000030412</td>\n",
       "    </tr>\n",
       "    <tr>\n",
       "      <th>2</th>\n",
       "      <td>1</td>\n",
       "      <td>2085.695</td>\n",
       "      <td>662.3420</td>\n",
       "      <td>304.16</td>\n",
       "      <td>1.0</td>\n",
       "      <td>0.040009</td>\n",
       "      <td>5.327368</td>\n",
       "      <td>32.581020</td>\n",
       "      <td>-166.263732</td>\n",
       "      <td>1970-01-01 00:00:00.000030416</td>\n",
       "    </tr>\n",
       "    <tr>\n",
       "      <th>3</th>\n",
       "      <td>1</td>\n",
       "      <td>2085.932</td>\n",
       "      <td>662.4187</td>\n",
       "      <td>304.20</td>\n",
       "      <td>1.0</td>\n",
       "      <td>0.040009</td>\n",
       "      <td>6.227554</td>\n",
       "      <td>22.504654</td>\n",
       "      <td>-162.066931</td>\n",
       "      <td>1970-01-01 00:00:00.000030420</td>\n",
       "    </tr>\n",
       "    <tr>\n",
       "      <th>4</th>\n",
       "      <td>1</td>\n",
       "      <td>2086.202</td>\n",
       "      <td>662.5214</td>\n",
       "      <td>304.24</td>\n",
       "      <td>1.0</td>\n",
       "      <td>0.039978</td>\n",
       "      <td>7.221811</td>\n",
       "      <td>24.856424</td>\n",
       "      <td>-159.174668</td>\n",
       "      <td>1970-01-01 00:00:00.000030424</td>\n",
       "    </tr>\n",
       "  </tbody>\n",
       "</table>\n",
       "</div>"
      ],
      "text/plain": [
       "   uid       lat       lng       t   id       tmp         s           a  \\\n",
       "0    1  2085.328  662.2738  304.08  1.0       NaN  0.000000    0.000000   \n",
       "1    1  2085.488  662.2914  304.12  1.0  0.040009  4.024127  100.603181   \n",
       "2    1  2085.695  662.3420  304.16  1.0  0.040009  5.327368   32.581020   \n",
       "3    1  2085.932  662.4187  304.20  1.0  0.040009  6.227554   22.504654   \n",
       "4    1  2086.202  662.5214  304.24  1.0  0.039978  7.221811   24.856424   \n",
       "\n",
       "          ang                      datetime  \n",
       "0    0.000000 1970-01-01 00:00:00.000030408  \n",
       "1 -173.722702 1970-01-01 00:00:00.000030412  \n",
       "2 -166.263732 1970-01-01 00:00:00.000030416  \n",
       "3 -162.066931 1970-01-01 00:00:00.000030420  \n",
       "4 -159.174668 1970-01-01 00:00:00.000030424  "
      ]
     },
     "execution_count": 27,
     "metadata": {},
     "output_type": "execute_result"
    }
   ],
   "source": [
    "tdf.head()"
   ]
  },
  {
   "cell_type": "code",
   "execution_count": 28,
   "metadata": {},
   "outputs": [
    {
     "name": "stderr",
     "output_type": "stream",
     "text": [
      "100%|██████████| 4197/4197 [00:37<00:00, 110.58it/s]\n"
     ]
    }
   ],
   "source": [
    "dsl_df = distance_straight_line(tdf)"
   ]
  },
  {
   "cell_type": "code",
   "execution_count": 29,
   "metadata": {},
   "outputs": [
    {
     "data": {
      "image/png": "[encoded data removed]",
      "text/plain": [
       "<Figure size 432x288 with 1 Axes>"
      ]
     },
     "metadata": {
      "needs_background": "light"
     },
     "output_type": "display_data"
    }
   ],
   "source": [
    "plt.hist(dsl_df[\"distance_straight_line\"],bins = 50)\n",
    "plt.title(\"Distance traveled, straight line\")\n",
    "plt.savefig(\"tot_dist.png\")"
   ]
  },
  {
   "cell_type": "code",
   "execution_count": 30,
   "metadata": {},
   "outputs": [
    {
     "name": "stderr",
     "output_type": "stream",
     "text": [
      "100%|██████████| 4197/4197 [00:37<00:00, 113.14it/s]\n"
     ]
    }
   ],
   "source": [
    "md_df = maximum_distance(tdf)"
   ]
  },
  {
   "cell_type": "code",
   "execution_count": 31,
   "metadata": {
    "scrolled": true
   },
   "outputs": [
    {
     "data": {
      "image/png": "[encoded data removed]",
      "text/plain": [
       "<Figure size 432x288 with 1 Axes>"
      ]
     },
     "metadata": {
      "needs_background": "light"
     },
     "output_type": "display_data"
    }
   ],
   "source": [
    "plt.hist(md_df['maximum_distance'],bins=50)\n",
    "plt.title(\"Maximum distance\")\n",
    "plt.savefig(\"max_dist.png\")"
   ]
  },
  {
   "cell_type": "code",
   "execution_count": 32,
   "metadata": {},
   "outputs": [
    {
     "name": "stdout",
     "output_type": "stream",
     "text": [
      "4197.0\n"
     ]
    }
   ],
   "source": [
    "# re_df = real_entropy(tdf)\n",
    "# plt.hist(re_df[\"real_entropy\"])\n",
    "# plt.title(\"Real Entropy\")\n",
    "print(np.shape(f)[0]/1500)"
   ]
  },
  {
   "cell_type": "code",
   "execution_count": 33,
   "metadata": {
    "scrolled": true
   },
   "outputs": [
    {
     "name": "stderr",
     "output_type": "stream",
     "text": [
      "100%|██████████| 4196/4196 [47:00<00:00,  1.49it/s]  \n"
     ]
    }
   ],
   "source": [
    "#Distance from Straight Line\n",
    "d = []\n",
    "step_size = 50\n",
    "for i in tqdm(range(1,4197)):\n",
    "    d_tmp = 0\n",
    "    for j in range(1,1499,50):\n",
    "        p1 = f[f['minute_id']==i].iloc[0][['x','y']]\n",
    "        p2 = f[f['minute_id']==i].iloc[1499][['x','y']]\n",
    "        p3 = f[f['minute_id']==i].iloc[j][['x','y']]\n",
    "        d_tmp += norm(np.cross(p2-p1, p1-p3))/norm(p2-p1)\n",
    "    d.append(d_tmp)"
   ]
  },
  {
   "cell_type": "code",
   "execution_count": 34,
   "metadata": {},
   "outputs": [
    {
     "data": {
      "image/png": "[encoded data removed]",
      "text/plain": [
       "<Figure size 432x288 with 1 Axes>"
      ]
     },
     "metadata": {
      "needs_background": "light"
     },
     "output_type": "display_data"
    }
   ],
   "source": [
    "plt.hist(d,bins = 50)\n",
    "plt.title(\"Distance to a straight line\")\n",
    "plt.savefig(\"Straight_Line_Distance.png\")"
   ]
  },
  {
   "cell_type": "code",
   "execution_count": 35,
   "metadata": {
    "scrolled": true
   },
   "outputs": [
    {
     "name": "stderr",
     "output_type": "stream",
     "text": [
      "  4%|▎         | 54/1500 [19:59<8:55:13, 22.21s/it] \n"
     ]
    },
    {
     "ename": "KeyboardInterrupt",
     "evalue": "",
     "output_type": "error",
     "traceback": [
      "\u001b[0;31m---------------------------------------------------------------------------\u001b[0m",
      "\u001b[0;31mKeyboardInterrupt\u001b[0m                         Traceback (most recent call last)",
      "\u001b[0;32m<ipython-input-35-4776e6883d22>\u001b[0m in \u001b[0;36m<module>\u001b[0;34m\u001b[0m\n\u001b[1;32m      6\u001b[0m \u001b[0;32mfor\u001b[0m \u001b[0mj\u001b[0m \u001b[0;32min\u001b[0m \u001b[0mtqdm\u001b[0m\u001b[0;34m(\u001b[0m\u001b[0mrange\u001b[0m\u001b[0;34m(\u001b[0m\u001b[0;36m1500\u001b[0m\u001b[0;34m)\u001b[0m\u001b[0;34m)\u001b[0m\u001b[0;34m:\u001b[0m\u001b[0;34m\u001b[0m\u001b[0;34m\u001b[0m\u001b[0m\n\u001b[1;32m      7\u001b[0m     \u001b[0;32mfor\u001b[0m \u001b[0mk\u001b[0m \u001b[0;32min\u001b[0m \u001b[0mrange\u001b[0m\u001b[0;34m(\u001b[0m\u001b[0mj\u001b[0m\u001b[0;34m,\u001b[0m\u001b[0;36m1500\u001b[0m\u001b[0;34m)\u001b[0m\u001b[0;34m:\u001b[0m\u001b[0;34m\u001b[0m\u001b[0;34m\u001b[0m\u001b[0m\n\u001b[0;32m----> 8\u001b[0;31m         \u001b[0;32mif\u001b[0m\u001b[0;34m(\u001b[0m\u001b[0mmath\u001b[0m\u001b[0;34m.\u001b[0m\u001b[0mdist\u001b[0m\u001b[0;34m(\u001b[0m\u001b[0mf\u001b[0m\u001b[0;34m[\u001b[0m\u001b[0mf\u001b[0m\u001b[0;34m[\u001b[0m\u001b[0;34m'minute_id'\u001b[0m\u001b[0;34m]\u001b[0m\u001b[0;34m==\u001b[0m\u001b[0mi\u001b[0m\u001b[0;34m]\u001b[0m\u001b[0;34m.\u001b[0m\u001b[0miloc\u001b[0m\u001b[0;34m[\u001b[0m\u001b[0mj\u001b[0m\u001b[0;34m]\u001b[0m\u001b[0;34m[\u001b[0m\u001b[0;34m[\u001b[0m\u001b[0;34m'x'\u001b[0m\u001b[0;34m,\u001b[0m\u001b[0;34m'y'\u001b[0m\u001b[0;34m]\u001b[0m\u001b[0;34m]\u001b[0m\u001b[0;34m,\u001b[0m \u001b[0mf\u001b[0m\u001b[0;34m[\u001b[0m\u001b[0mf\u001b[0m\u001b[0;34m[\u001b[0m\u001b[0;34m'minute_id'\u001b[0m\u001b[0;34m]\u001b[0m\u001b[0;34m==\u001b[0m\u001b[0mi\u001b[0m\u001b[0;34m]\u001b[0m\u001b[0;34m.\u001b[0m\u001b[0miloc\u001b[0m\u001b[0;34m[\u001b[0m\u001b[0mk\u001b[0m\u001b[0;34m]\u001b[0m\u001b[0;34m[\u001b[0m\u001b[0;34m[\u001b[0m\u001b[0;34m'x'\u001b[0m\u001b[0;34m,\u001b[0m\u001b[0;34m'y'\u001b[0m\u001b[0;34m]\u001b[0m\u001b[0;34m]\u001b[0m\u001b[0;34m)\u001b[0m \u001b[0;34m<\u001b[0m \u001b[0;36m1\u001b[0m\u001b[0;34m)\u001b[0m\u001b[0;34m:\u001b[0m\u001b[0;34m\u001b[0m\u001b[0;34m\u001b[0m\u001b[0m\n\u001b[0m\u001b[1;32m      9\u001b[0m             \u001b[0mid_crossings\u001b[0m \u001b[0;34m+=\u001b[0m \u001b[0;36m1\u001b[0m\u001b[0;34m\u001b[0m\u001b[0;34m\u001b[0m\u001b[0m\n\u001b[1;32m     10\u001b[0m \u001b[0mnum_crossings\u001b[0m\u001b[0;34m.\u001b[0m\u001b[0mappend\u001b[0m\u001b[0;34m(\u001b[0m\u001b[0mid_crossings\u001b[0m\u001b[0;34m)\u001b[0m\u001b[0;34m\u001b[0m\u001b[0;34m\u001b[0m\u001b[0m\n",
      "\u001b[0;32m~/anaconda3/lib/python3.8/site-packages/pandas/core/ops/common.py\u001b[0m in \u001b[0;36mnew_method\u001b[0;34m(self, other)\u001b[0m\n\u001b[1;32m     63\u001b[0m         \u001b[0mother\u001b[0m \u001b[0;34m=\u001b[0m \u001b[0mitem_from_zerodim\u001b[0m\u001b[0;34m(\u001b[0m\u001b[0mother\u001b[0m\u001b[0;34m)\u001b[0m\u001b[0;34m\u001b[0m\u001b[0;34m\u001b[0m\u001b[0m\n\u001b[1;32m     64\u001b[0m \u001b[0;34m\u001b[0m\u001b[0m\n\u001b[0;32m---> 65\u001b[0;31m         \u001b[0;32mreturn\u001b[0m \u001b[0mmethod\u001b[0m\u001b[0;34m(\u001b[0m\u001b[0mself\u001b[0m\u001b[0;34m,\u001b[0m \u001b[0mother\u001b[0m\u001b[0;34m)\u001b[0m\u001b[0;34m\u001b[0m\u001b[0;34m\u001b[0m\u001b[0m\n\u001b[0m\u001b[1;32m     66\u001b[0m \u001b[0;34m\u001b[0m\u001b[0m\n\u001b[1;32m     67\u001b[0m     \u001b[0;32mreturn\u001b[0m \u001b[0mnew_method\u001b[0m\u001b[0;34m\u001b[0m\u001b[0;34m\u001b[0m\u001b[0m\n",
      "\u001b[0;32m~/anaconda3/lib/python3.8/site-packages/pandas/core/ops/__init__.py\u001b[0m in \u001b[0;36mwrapper\u001b[0;34m(self, other)\u001b[0m\n\u001b[1;32m    368\u001b[0m         \u001b[0mrvalues\u001b[0m \u001b[0;34m=\u001b[0m \u001b[0mextract_array\u001b[0m\u001b[0;34m(\u001b[0m\u001b[0mother\u001b[0m\u001b[0;34m,\u001b[0m \u001b[0mextract_numpy\u001b[0m\u001b[0;34m=\u001b[0m\u001b[0;32mTrue\u001b[0m\u001b[0;34m)\u001b[0m\u001b[0;34m\u001b[0m\u001b[0;34m\u001b[0m\u001b[0m\n\u001b[1;32m    369\u001b[0m \u001b[0;34m\u001b[0m\u001b[0m\n\u001b[0;32m--> 370\u001b[0;31m         \u001b[0mres_values\u001b[0m \u001b[0;34m=\u001b[0m \u001b[0mcomparison_op\u001b[0m\u001b[0;34m(\u001b[0m\u001b[0mlvalues\u001b[0m\u001b[0;34m,\u001b[0m \u001b[0mrvalues\u001b[0m\u001b[0;34m,\u001b[0m \u001b[0mop\u001b[0m\u001b[0;34m)\u001b[0m\u001b[0;34m\u001b[0m\u001b[0;34m\u001b[0m\u001b[0m\n\u001b[0m\u001b[1;32m    371\u001b[0m \u001b[0;34m\u001b[0m\u001b[0m\n\u001b[1;32m    372\u001b[0m         \u001b[0;32mreturn\u001b[0m \u001b[0mself\u001b[0m\u001b[0;34m.\u001b[0m\u001b[0m_construct_result\u001b[0m\u001b[0;34m(\u001b[0m\u001b[0mres_values\u001b[0m\u001b[0;34m,\u001b[0m \u001b[0mname\u001b[0m\u001b[0;34m=\u001b[0m\u001b[0mres_name\u001b[0m\u001b[0;34m)\u001b[0m\u001b[0;34m\u001b[0m\u001b[0;34m\u001b[0m\u001b[0m\n",
      "\u001b[0;32m~/anaconda3/lib/python3.8/site-packages/pandas/core/ops/array_ops.py\u001b[0m in \u001b[0;36mcomparison_op\u001b[0;34m(left, right, op)\u001b[0m\n\u001b[1;32m    249\u001b[0m             \u001b[0mwarnings\u001b[0m\u001b[0;34m.\u001b[0m\u001b[0msimplefilter\u001b[0m\u001b[0;34m(\u001b[0m\u001b[0;34m\"ignore\"\u001b[0m\u001b[0;34m,\u001b[0m \u001b[0mDeprecationWarning\u001b[0m\u001b[0;34m)\u001b[0m\u001b[0;34m\u001b[0m\u001b[0;34m\u001b[0m\u001b[0m\n\u001b[1;32m    250\u001b[0m             \u001b[0;32mwith\u001b[0m \u001b[0mnp\u001b[0m\u001b[0;34m.\u001b[0m\u001b[0merrstate\u001b[0m\u001b[0;34m(\u001b[0m\u001b[0mall\u001b[0m\u001b[0;34m=\u001b[0m\u001b[0;34m\"ignore\"\u001b[0m\u001b[0;34m)\u001b[0m\u001b[0;34m:\u001b[0m\u001b[0;34m\u001b[0m\u001b[0;34m\u001b[0m\u001b[0m\n\u001b[0;32m--> 251\u001b[0;31m                 \u001b[0mres_values\u001b[0m \u001b[0;34m=\u001b[0m \u001b[0mna_arithmetic_op\u001b[0m\u001b[0;34m(\u001b[0m\u001b[0mlvalues\u001b[0m\u001b[0;34m,\u001b[0m \u001b[0mrvalues\u001b[0m\u001b[0;34m,\u001b[0m \u001b[0mop\u001b[0m\u001b[0;34m,\u001b[0m \u001b[0mis_cmp\u001b[0m\u001b[0;34m=\u001b[0m\u001b[0;32mTrue\u001b[0m\u001b[0;34m)\u001b[0m\u001b[0;34m\u001b[0m\u001b[0;34m\u001b[0m\u001b[0m\n\u001b[0m\u001b[1;32m    252\u001b[0m \u001b[0;34m\u001b[0m\u001b[0m\n\u001b[1;32m    253\u001b[0m     \u001b[0;32mreturn\u001b[0m \u001b[0mres_values\u001b[0m\u001b[0;34m\u001b[0m\u001b[0;34m\u001b[0m\u001b[0m\n",
      "\u001b[0;32m~/anaconda3/lib/python3.8/site-packages/pandas/core/ops/array_ops.py\u001b[0m in \u001b[0;36mna_arithmetic_op\u001b[0;34m(left, right, op, is_cmp)\u001b[0m\n\u001b[1;32m    141\u001b[0m \u001b[0;34m\u001b[0m\u001b[0m\n\u001b[1;32m    142\u001b[0m     \u001b[0;32mtry\u001b[0m\u001b[0;34m:\u001b[0m\u001b[0;34m\u001b[0m\u001b[0;34m\u001b[0m\u001b[0m\n\u001b[0;32m--> 143\u001b[0;31m         \u001b[0mresult\u001b[0m \u001b[0;34m=\u001b[0m \u001b[0mexpressions\u001b[0m\u001b[0;34m.\u001b[0m\u001b[0mevaluate\u001b[0m\u001b[0;34m(\u001b[0m\u001b[0mop\u001b[0m\u001b[0;34m,\u001b[0m \u001b[0mleft\u001b[0m\u001b[0;34m,\u001b[0m \u001b[0mright\u001b[0m\u001b[0;34m)\u001b[0m\u001b[0;34m\u001b[0m\u001b[0;34m\u001b[0m\u001b[0m\n\u001b[0m\u001b[1;32m    144\u001b[0m     \u001b[0;32mexcept\u001b[0m \u001b[0mTypeError\u001b[0m\u001b[0;34m:\u001b[0m\u001b[0;34m\u001b[0m\u001b[0;34m\u001b[0m\u001b[0m\n\u001b[1;32m    145\u001b[0m         \u001b[0;32mif\u001b[0m \u001b[0mis_cmp\u001b[0m\u001b[0;34m:\u001b[0m\u001b[0;34m\u001b[0m\u001b[0;34m\u001b[0m\u001b[0m\n",
      "\u001b[0;32m~/anaconda3/lib/python3.8/site-packages/pandas/core/computation/expressions.py\u001b[0m in \u001b[0;36mevaluate\u001b[0;34m(op, a, b, use_numexpr)\u001b[0m\n\u001b[1;32m    231\u001b[0m         \u001b[0muse_numexpr\u001b[0m \u001b[0;34m=\u001b[0m \u001b[0muse_numexpr\u001b[0m \u001b[0;32mand\u001b[0m \u001b[0m_bool_arith_check\u001b[0m\u001b[0;34m(\u001b[0m\u001b[0mop_str\u001b[0m\u001b[0;34m,\u001b[0m \u001b[0ma\u001b[0m\u001b[0;34m,\u001b[0m \u001b[0mb\u001b[0m\u001b[0;34m)\u001b[0m\u001b[0;34m\u001b[0m\u001b[0;34m\u001b[0m\u001b[0m\n\u001b[1;32m    232\u001b[0m         \u001b[0;32mif\u001b[0m \u001b[0muse_numexpr\u001b[0m\u001b[0;34m:\u001b[0m\u001b[0;34m\u001b[0m\u001b[0;34m\u001b[0m\u001b[0m\n\u001b[0;32m--> 233\u001b[0;31m             \u001b[0;32mreturn\u001b[0m \u001b[0m_evaluate\u001b[0m\u001b[0;34m(\u001b[0m\u001b[0mop\u001b[0m\u001b[0;34m,\u001b[0m \u001b[0mop_str\u001b[0m\u001b[0;34m,\u001b[0m \u001b[0ma\u001b[0m\u001b[0;34m,\u001b[0m \u001b[0mb\u001b[0m\u001b[0;34m)\u001b[0m  \u001b[0;31m# type: ignore\u001b[0m\u001b[0;34m\u001b[0m\u001b[0;34m\u001b[0m\u001b[0m\n\u001b[0m\u001b[1;32m    234\u001b[0m     \u001b[0;32mreturn\u001b[0m \u001b[0m_evaluate_standard\u001b[0m\u001b[0;34m(\u001b[0m\u001b[0mop\u001b[0m\u001b[0;34m,\u001b[0m \u001b[0mop_str\u001b[0m\u001b[0;34m,\u001b[0m \u001b[0ma\u001b[0m\u001b[0;34m,\u001b[0m \u001b[0mb\u001b[0m\u001b[0;34m)\u001b[0m\u001b[0;34m\u001b[0m\u001b[0;34m\u001b[0m\u001b[0m\n\u001b[1;32m    235\u001b[0m \u001b[0;34m\u001b[0m\u001b[0m\n",
      "\u001b[0;32m~/anaconda3/lib/python3.8/site-packages/pandas/core/computation/expressions.py\u001b[0m in \u001b[0;36m_evaluate_numexpr\u001b[0;34m(op, op_str, a, b)\u001b[0m\n\u001b[1;32m    107\u001b[0m         \u001b[0mb_value\u001b[0m \u001b[0;34m=\u001b[0m \u001b[0mb\u001b[0m\u001b[0;34m\u001b[0m\u001b[0;34m\u001b[0m\u001b[0m\n\u001b[1;32m    108\u001b[0m \u001b[0;34m\u001b[0m\u001b[0m\n\u001b[0;32m--> 109\u001b[0;31m         result = ne.evaluate(\n\u001b[0m\u001b[1;32m    110\u001b[0m             \u001b[0;34mf\"a_value {op_str} b_value\"\u001b[0m\u001b[0;34m,\u001b[0m\u001b[0;34m\u001b[0m\u001b[0;34m\u001b[0m\u001b[0m\n\u001b[1;32m    111\u001b[0m             \u001b[0mlocal_dict\u001b[0m\u001b[0;34m=\u001b[0m\u001b[0;34m{\u001b[0m\u001b[0;34m\"a_value\"\u001b[0m\u001b[0;34m:\u001b[0m \u001b[0ma_value\u001b[0m\u001b[0;34m,\u001b[0m \u001b[0;34m\"b_value\"\u001b[0m\u001b[0;34m:\u001b[0m \u001b[0mb_value\u001b[0m\u001b[0;34m}\u001b[0m\u001b[0;34m,\u001b[0m\u001b[0;34m\u001b[0m\u001b[0;34m\u001b[0m\u001b[0m\n",
      "\u001b[0;32m~/anaconda3/lib/python3.8/site-packages/numexpr/necompiler.py\u001b[0m in \u001b[0;36mevaluate\u001b[0;34m(ex, local_dict, global_dict, out, order, casting, **kwargs)\u001b[0m\n\u001b[1;32m    832\u001b[0m     \u001b[0m_numexpr_last\u001b[0m \u001b[0;34m=\u001b[0m \u001b[0mdict\u001b[0m\u001b[0;34m(\u001b[0m\u001b[0mex\u001b[0m\u001b[0;34m=\u001b[0m\u001b[0mcompiled_ex\u001b[0m\u001b[0;34m,\u001b[0m \u001b[0margnames\u001b[0m\u001b[0;34m=\u001b[0m\u001b[0mnames\u001b[0m\u001b[0;34m,\u001b[0m \u001b[0mkwargs\u001b[0m\u001b[0;34m=\u001b[0m\u001b[0mkwargs\u001b[0m\u001b[0;34m)\u001b[0m\u001b[0;34m\u001b[0m\u001b[0;34m\u001b[0m\u001b[0m\n\u001b[1;32m    833\u001b[0m     \u001b[0;32mwith\u001b[0m \u001b[0mevaluate_lock\u001b[0m\u001b[0;34m:\u001b[0m\u001b[0;34m\u001b[0m\u001b[0;34m\u001b[0m\u001b[0m\n\u001b[0;32m--> 834\u001b[0;31m         \u001b[0;32mreturn\u001b[0m \u001b[0mcompiled_ex\u001b[0m\u001b[0;34m(\u001b[0m\u001b[0;34m*\u001b[0m\u001b[0marguments\u001b[0m\u001b[0;34m,\u001b[0m \u001b[0;34m**\u001b[0m\u001b[0mkwargs\u001b[0m\u001b[0;34m)\u001b[0m\u001b[0;34m\u001b[0m\u001b[0;34m\u001b[0m\u001b[0m\n\u001b[0m\u001b[1;32m    835\u001b[0m \u001b[0;34m\u001b[0m\u001b[0m\n\u001b[1;32m    836\u001b[0m \u001b[0;34m\u001b[0m\u001b[0m\n",
      "\u001b[0;31mKeyboardInterrupt\u001b[0m: "
     ]
    }
   ],
   "source": [
    "# Crossings Check\n",
    "num_crossings = []\n",
    "# for i in tqdm(range(1,2373)):\n",
    "i = 3\n",
    "id_crossings = 0\n",
    "for j in tqdm(range(1500)):\n",
    "    for k in range(j,1500):\n",
    "        if(math.dist(f[f['minute_id']==i].iloc[j][['x','y']], f[f['minute_id']==i].iloc[k][['x','y']]) < 1):\n",
    "            id_crossings += 1\n",
    "num_crossings.append(id_crossings)"
   ]
  },
  {
   "cell_type": "code",
   "execution_count": null,
   "metadata": {},
   "outputs": [],
   "source": [
    "plt.hist(num_crossings)"
   ]
  },
  {
   "cell_type": "code",
   "execution_count": null,
   "metadata": {},
   "outputs": [],
   "source": [
    "plt.plot(f[f[\"minute_id\"]==3]['x'],f[f[\"minute_id\"]==5]['y'])"
   ]
  },
  {
   "cell_type": "code",
   "execution_count": null,
   "metadata": {},
   "outputs": [],
   "source": [
    "df = traja.read_file('../../Minute_Trajectories_3.csv')"
   ]
  },
  {
   "cell_type": "code",
   "execution_count": null,
   "metadata": {},
   "outputs": [],
   "source": [
    "f['angles'] = traja.trajectory.calc_angle(df)"
   ]
  },
  {
   "cell_type": "code",
   "execution_count": null,
   "metadata": {},
   "outputs": [],
   "source": [
    "ang_mean = f.groupby(['minute_id']).mean()['angles']\n",
    "\n",
    "plt.hist(ang_mean,bins=50)\n",
    "plt.title(\"Histogram of average angle\")\n",
    "plt.savefig(\"av_angle.png\")\n",
    "plt.show()"
   ]
  },
  {
   "cell_type": "code",
   "execution_count": null,
   "metadata": {},
   "outputs": [],
   "source": [
    "print(f['angles'])"
   ]
  },
  {
   "cell_type": "code",
   "execution_count": null,
   "metadata": {},
   "outputs": [],
   "source": [
    "#autocorr_angle = np.correlate(f['angles'][~np.isnan(f['angles'])],f['angles'][~np.isnan(f['angles'])],mode=\"full\")\n"
   ]
  },
  {
   "cell_type": "code",
   "execution_count": null,
   "metadata": {},
   "outputs": [],
   "source": [
    "#plt.hist(autocorr_angle[~np.isnan(autocorr_angle)])"
   ]
  },
  {
   "cell_type": "code",
   "execution_count": null,
   "metadata": {},
   "outputs": [],
   "source": []
  },
  {
   "cell_type": "code",
   "execution_count": 60,
   "metadata": {},
   "outputs": [
    {
     "name": "stderr",
     "output_type": "stream",
     "text": [
      "100%|██████████| 4197/4197 [22:04:37<00:00, 18.94s/it]        \n"
     ]
    }
   ],
   "source": [
    "newa = f[['x','y','minute_id']]\n",
    "newa = np.asarray(newa)\n",
    "counts = []\n",
    "for plotid in tqdm(np.unique(f['minute_id'])):\n",
    "    c = get_crossings(newa[newa[:,2]==plotid])\n",
    "    counts.append(c)"
   ]
  },
  {
   "cell_type": "code",
   "execution_count": 61,
   "metadata": {
    "scrolled": true
   },
   "outputs": [
    {
     "data": {
      "image/png": "[encoded data removed]",
      "text/plain": [
       "<Figure size 432x288 with 1 Axes>"
      ]
     },
     "metadata": {
      "needs_background": "light"
     },
     "output_type": "display_data"
    }
   ],
   "source": [
    "plt.hist(counts,bins=50)\n",
    "plt.xlabel(\"Count of Crossings\")\n",
    "plt.ylabel(\"Number of trajectories\")\n",
    "plt.title(\"Number of crossings\")\n",
    "plt.savefig(\"Crossings.png\")"
   ]
  },
  {
   "cell_type": "code",
   "execution_count": 38,
   "metadata": {},
   "outputs": [
    {
     "data": {
      "text/plain": [
       "array([], dtype=float64)"
      ]
     },
     "execution_count": 38,
     "metadata": {},
     "output_type": "execute_result"
    }
   ],
   "source": [
    "newa[newa[:,1]==1][:,0]"
   ]
  },
  {
   "cell_type": "code",
   "execution_count": 39,
   "metadata": {},
   "outputs": [
    {
     "name": "stderr",
     "output_type": "stream",
     "text": [
      "100%|██████████| 4197/4197 [02:12<00:00, 31.65it/s]\n"
     ]
    }
   ],
   "source": [
    "newa = f[['ang','minute_id']]\n",
    "newa = np.asarray(newa)\n",
    "dir_changes = []\n",
    "for plotid in tqdm(np.unique(f['minute_id'])):\n",
    "    c = get_change_dir(newa[newa[:,1]==plotid][:,0])\n",
    "    dir_changes.append(c)"
   ]
  },
  {
   "cell_type": "code",
   "execution_count": 40,
   "metadata": {},
   "outputs": [
    {
     "name": "stdout",
     "output_type": "stream",
     "text": [
      "(4197,)\n"
     ]
    }
   ],
   "source": [
    "print(np.shape(dir_changes))"
   ]
  },
  {
   "cell_type": "code",
   "execution_count": 41,
   "metadata": {},
   "outputs": [
    {
     "data": {
      "image/png": "[encoded data removed]",
      "text/plain": [
       "<Figure size 432x288 with 1 Axes>"
      ]
     },
     "metadata": {
      "needs_background": "light"
     },
     "output_type": "display_data"
    }
   ],
   "source": [
    "plt.hist(dir_changes,bins=50)\n",
    "plt.xlabel(\"Number of direction changes\")\n",
    "plt.ylabel(\"Number of trajectories\")\n",
    "plt.savefig(\"Direction_Changes.png\")"
   ]
  },
  {
   "cell_type": "code",
   "execution_count": 82,
   "metadata": {},
   "outputs": [
    {
     "name": "stderr",
     "output_type": "stream",
     "text": [
      "100%|██████████| 4197/4197 [01:17<00:00, 53.85it/s]\n"
     ]
    }
   ],
   "source": [
    "newa = f[['x','y','minute_id']]\n",
    "newa = np.asarray(newa)\n",
    "max_dists = []\n",
    "for plotid in tqdm(np.unique(f['minute_id'])):\n",
    "    c = newa[newa[:,2]==plotid]\n",
    "#     print(np.shape(c))\n",
    "#     dir_changes.append(c)\n",
    "\n",
    "    xs = np.subtract(c[0,0],c[:,0])\n",
    "    ys = np.subtract(c[0,1],c[:,1])\n",
    "    dists = np.sqrt(np.add(np.power(xs, 2), np.power(ys, 2)))\n",
    "    m = max(dists)\n",
    "    \n",
    "    max_dists.append(m)"
   ]
  },
  {
   "cell_type": "code",
   "execution_count": 83,
   "metadata": {},
   "outputs": [
    {
     "data": {
      "image/png": "[encoded data removed]",
      "text/plain": [
       "<Figure size 432x288 with 1 Axes>"
      ]
     },
     "metadata": {
      "needs_background": "light"
     },
     "output_type": "display_data"
    }
   ],
   "source": [
    "plt.hist(max_dists, bins=50)\n",
    "plt.xlabel(\"Max distance from beginning point\")\n",
    "plt.ylabel(\"Number of trajectories\")\n",
    "plt.savefig(\"Max_dist_from_start.png\")"
   ]
  },
  {
   "cell_type": "code",
   "execution_count": null,
   "metadata": {},
   "outputs": [],
   "source": []
  },
  {
   "cell_type": "code",
   "execution_count": 48,
   "metadata": {},
   "outputs": [
    {
     "name": "stderr",
     "output_type": "stream",
     "text": [
      "100%|██████████| 4197/4197 [01:35<00:00, 44.16it/s]\n"
     ]
    }
   ],
   "source": [
    "newa = f[['x','y','minute_id']]\n",
    "newa = np.asarray(newa)\n",
    "max_dists = []\n",
    "areas = []\n",
    "for plotid in tqdm(np.unique(f['minute_id'])):\n",
    "    c = newa[newa[:,2]==plotid]\n",
    "    area = triangle_area(c,step_size=250)\n",
    "    areas.append(area)"
   ]
  },
  {
   "cell_type": "code",
   "execution_count": 49,
   "metadata": {},
   "outputs": [
    {
     "data": {
      "image/png": "[encoded data removed]",
      "text/plain": [
       "<Figure size 432x288 with 1 Axes>"
      ]
     },
     "metadata": {
      "needs_background": "light"
     },
     "output_type": "display_data"
    }
   ],
   "source": [
    "plt.hist(areas, bins=50)\n",
    "plt.xlabel(\"Triangle Area\")\n",
    "plt.ylabel(\"Number of trajectories\")\n",
    "plt.savefig(\"triangle_area.png\")"
   ]
  },
  {
   "cell_type": "code",
   "execution_count": 46,
   "metadata": {},
   "outputs": [
    {
     "name": "stderr",
     "output_type": "stream",
     "text": [
      "100%|██████████| 499/499 [01:51<00:00,  4.46it/s]\n"
     ]
    }
   ],
   "source": [
    "#Step size test\n",
    "test_traj = newa[newa[:,2]==1]\n",
    "area_size = []\n",
    "for i in tqdm(range(1,500)):\n",
    "    areas = []\n",
    "    for plotid in range(10):\n",
    "        c = newa[newa[:,2]==plotid]\n",
    "        area = triangle_area(c,step_size =i)\n",
    "        areas.append(area)\n",
    "    area_size.append(np.mean(areas))\n"
   ]
  },
  {
   "cell_type": "code",
   "execution_count": 1,
   "metadata": {},
   "outputs": [
    {
     "ename": "NameError",
     "evalue": "name 'plt' is not defined",
     "output_type": "error",
     "traceback": [
      "\u001b[0;31m---------------------------------------------------------------------------\u001b[0m",
      "\u001b[0;31mNameError\u001b[0m                                 Traceback (most recent call last)",
      "\u001b[0;32m<ipython-input-1-f896e49ea9ce>\u001b[0m in \u001b[0;36m<module>\u001b[0;34m\u001b[0m\n\u001b[1;32m      1\u001b[0m \u001b[0;31m#Take peak and recompute\u001b[0m\u001b[0;34m\u001b[0m\u001b[0;34m\u001b[0m\u001b[0;34m\u001b[0m\u001b[0m\n\u001b[0;32m----> 2\u001b[0;31m \u001b[0mplt\u001b[0m\u001b[0;34m.\u001b[0m\u001b[0mplot\u001b[0m\u001b[0;34m(\u001b[0m\u001b[0marea_size\u001b[0m\u001b[0;34m)\u001b[0m\u001b[0;34m\u001b[0m\u001b[0;34m\u001b[0m\u001b[0m\n\u001b[0m\u001b[1;32m      3\u001b[0m \u001b[0mplt\u001b[0m\u001b[0;34m.\u001b[0m\u001b[0mylabel\u001b[0m\u001b[0;34m(\u001b[0m\u001b[0;34m\"Triangle Area\"\u001b[0m\u001b[0;34m)\u001b[0m\u001b[0;34m\u001b[0m\u001b[0;34m\u001b[0m\u001b[0m\n\u001b[1;32m      4\u001b[0m \u001b[0mplt\u001b[0m\u001b[0;34m.\u001b[0m\u001b[0mxlabel\u001b[0m\u001b[0;34m(\u001b[0m\u001b[0;34m\"Step Size\"\u001b[0m\u001b[0;34m)\u001b[0m\u001b[0;34m\u001b[0m\u001b[0;34m\u001b[0m\u001b[0m\n\u001b[1;32m      5\u001b[0m \u001b[0mplt\u001b[0m\u001b[0;34m.\u001b[0m\u001b[0msavefig\u001b[0m\u001b[0;34m(\u001b[0m\u001b[0;34m\"Triangle_step_size.png\"\u001b[0m\u001b[0;34m)\u001b[0m\u001b[0;34m\u001b[0m\u001b[0;34m\u001b[0m\u001b[0m\n",
      "\u001b[0;31mNameError\u001b[0m: name 'plt' is not defined"
     ]
    }
   ],
   "source": [
    "#Take peak and recompute\n",
    "plt.plot(area_size)\n",
    "plt.ylabel(\"Triangle Area\")\n",
    "plt.xlabel(\"Step Size\")\n",
    "plt.savefig(\"Triangle_step_size.png\")"
   ]
  },
  {
   "cell_type": "code",
   "execution_count": null,
   "metadata": {},
   "outputs": [],
   "source": [
    "plt.plot(area_size)"
   ]
  },
  {
   "cell_type": "code",
   "execution_count": null,
   "metadata": {},
   "outputs": [],
   "source": []
  },
  {
   "cell_type": "code",
   "execution_count": 65,
   "metadata": {},
   "outputs": [],
   "source": [
    "crossing_dat = pd.DataFrame(counts, columns=[\"crossings\"])"
   ]
  },
  {
   "cell_type": "code",
   "execution_count": 67,
   "metadata": {},
   "outputs": [],
   "source": [
    "crossing_dat.to_csv(\"crossings.csv\")"
   ]
  },
  {
   "cell_type": "code",
   "execution_count": 59,
   "metadata": {},
   "outputs": [],
   "source": [
    "total_data_ids = ['id','average_speed','average_angle','average_acceleration','dist_traveled','max_dist','dist_to_line','direction_changes','max_dist_start','triangle_area']\n",
    "\n"
   ]
  },
  {
   "cell_type": "code",
   "execution_count": 84,
   "metadata": {},
   "outputs": [],
   "source": [
    "ids = np.arange(4197)\n",
    "av_spd = s_mean\n",
    "av_angle = ang_mean\n",
    "av_acc = a_mean\n",
    "dist_t = dsl_df[\"distance_straight_line\"]\n",
    "max_dist = md_df['maximum_distance']\n",
    "dist_line = d\n",
    "dir_changes = dir_changes\n",
    "max_dist_s = max_dists\n",
    "t_a = areas"
   ]
  },
  {
   "cell_type": "code",
   "execution_count": 86,
   "metadata": {},
   "outputs": [
    {
     "name": "stdout",
     "output_type": "stream",
     "text": [
      "(4197,)\n"
     ]
    }
   ],
   "source": [
    "print(np.shape(areas))"
   ]
  },
  {
   "cell_type": "code",
   "execution_count": 87,
   "metadata": {},
   "outputs": [],
   "source": [
    "out_df = pd.DataFrame(list(zip(ids, av_spd, av_angle, av_acc, dist_t, max_dist,dist_line,dir_changes,max_dist_s, t_a)),columns =total_data_ids)\n",
    "\n",
    "\n"
   ]
  },
  {
   "cell_type": "code",
   "execution_count": 88,
   "metadata": {},
   "outputs": [
    {
     "data": {
      "text/html": [
       "<div>\n",
       "<style scoped>\n",
       "    .dataframe tbody tr th:only-of-type {\n",
       "        vertical-align: middle;\n",
       "    }\n",
       "\n",
       "    .dataframe tbody tr th {\n",
       "        vertical-align: top;\n",
       "    }\n",
       "\n",
       "    .dataframe thead th {\n",
       "        text-align: right;\n",
       "    }\n",
       "</style>\n",
       "<table border=\"1\" class=\"dataframe\">\n",
       "  <thead>\n",
       "    <tr style=\"text-align: right;\">\n",
       "      <th></th>\n",
       "      <th>id</th>\n",
       "      <th>average_speed</th>\n",
       "      <th>average_angle</th>\n",
       "      <th>average_acceleration</th>\n",
       "      <th>dist_traveled</th>\n",
       "      <th>max_dist</th>\n",
       "      <th>dist_to_line</th>\n",
       "      <th>direction_changes</th>\n",
       "      <th>max_dist_start</th>\n",
       "      <th>triangle_area</th>\n",
       "    </tr>\n",
       "  </thead>\n",
       "  <tbody>\n",
       "    <tr>\n",
       "      <th>0</th>\n",
       "      <td>0</td>\n",
       "      <td>4.416393</td>\n",
       "      <td>-3.590761</td>\n",
       "      <td>0.089033</td>\n",
       "      <td>25428.339401</td>\n",
       "      <td>40.224899</td>\n",
       "      <td>461.055826</td>\n",
       "      <td>23</td>\n",
       "      <td>186.505379</td>\n",
       "      <td>1.552998e+07</td>\n",
       "    </tr>\n",
       "    <tr>\n",
       "      <th>1</th>\n",
       "      <td>1</td>\n",
       "      <td>5.309256</td>\n",
       "      <td>40.235392</td>\n",
       "      <td>-0.010351</td>\n",
       "      <td>27286.793436</td>\n",
       "      <td>37.752912</td>\n",
       "      <td>1080.610753</td>\n",
       "      <td>13</td>\n",
       "      <td>145.573671</td>\n",
       "      <td>6.896034e+07</td>\n",
       "    </tr>\n",
       "    <tr>\n",
       "      <th>2</th>\n",
       "      <td>2</td>\n",
       "      <td>5.748886</td>\n",
       "      <td>57.630207</td>\n",
       "      <td>0.034656</td>\n",
       "      <td>33376.600945</td>\n",
       "      <td>37.862896</td>\n",
       "      <td>374.124640</td>\n",
       "      <td>16</td>\n",
       "      <td>190.448758</td>\n",
       "      <td>1.304189e+08</td>\n",
       "    </tr>\n",
       "    <tr>\n",
       "      <th>3</th>\n",
       "      <td>3</td>\n",
       "      <td>6.566597</td>\n",
       "      <td>51.788516</td>\n",
       "      <td>0.020437</td>\n",
       "      <td>31251.441576</td>\n",
       "      <td>37.029236</td>\n",
       "      <td>664.359617</td>\n",
       "      <td>11</td>\n",
       "      <td>220.428114</td>\n",
       "      <td>1.338914e+08</td>\n",
       "    </tr>\n",
       "    <tr>\n",
       "      <th>4</th>\n",
       "      <td>4</td>\n",
       "      <td>6.739817</td>\n",
       "      <td>29.174585</td>\n",
       "      <td>-0.029459</td>\n",
       "      <td>37712.573219</td>\n",
       "      <td>58.654360</td>\n",
       "      <td>903.642218</td>\n",
       "      <td>14</td>\n",
       "      <td>212.700705</td>\n",
       "      <td>1.077504e+08</td>\n",
       "    </tr>\n",
       "  </tbody>\n",
       "</table>\n",
       "</div>"
      ],
      "text/plain": [
       "   id  average_speed  average_angle  average_acceleration  dist_traveled  \\\n",
       "0   0       4.416393      -3.590761              0.089033   25428.339401   \n",
       "1   1       5.309256      40.235392             -0.010351   27286.793436   \n",
       "2   2       5.748886      57.630207              0.034656   33376.600945   \n",
       "3   3       6.566597      51.788516              0.020437   31251.441576   \n",
       "4   4       6.739817      29.174585             -0.029459   37712.573219   \n",
       "\n",
       "    max_dist  dist_to_line  direction_changes  max_dist_start  triangle_area  \n",
       "0  40.224899    461.055826                 23      186.505379   1.552998e+07  \n",
       "1  37.752912   1080.610753                 13      145.573671   6.896034e+07  \n",
       "2  37.862896    374.124640                 16      190.448758   1.304189e+08  \n",
       "3  37.029236    664.359617                 11      220.428114   1.338914e+08  \n",
       "4  58.654360    903.642218                 14      212.700705   1.077504e+08  "
      ]
     },
     "execution_count": 88,
     "metadata": {},
     "output_type": "execute_result"
    }
   ],
   "source": [
    "out_df.head()"
   ]
  },
  {
   "cell_type": "code",
   "execution_count": 89,
   "metadata": {},
   "outputs": [],
   "source": [
    "out_df.to_csv(\"overview_minute.csv\")"
   ]
  },
  {
   "cell_type": "code",
   "execution_count": null,
   "metadata": {},
   "outputs": [],
   "source": []
  }
 ],
 "metadata": {
  "kernelspec": {
   "display_name": "Python 3",
   "language": "python",
   "name": "python3"
  },
  "language_info": {
   "codemirror_mode": {
    "name": "ipython",
    "version": 3
   },
   "file_extension": ".py",
   "mimetype": "text/x-python",
   "name": "python",
   "nbconvert_exporter": "python",
   "pygments_lexer": "ipython3",
   "version": "3.8.5"
  }
 },
 "nbformat": 4,
 "nbformat_minor": 4
}
