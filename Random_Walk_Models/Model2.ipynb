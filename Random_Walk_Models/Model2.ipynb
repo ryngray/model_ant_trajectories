{
 "cells": [
  {
   "cell_type": "code",
   "execution_count": 1,
   "metadata": {},
   "outputs": [
    {
     "name": "stderr",
     "output_type": "stream",
     "text": [
      "/home/ryn/anaconda3/lib/python3.8/site-packages/tqdm/std.py:697: FutureWarning: The Panel class is removed from pandas. Accessing it from the top-level namespace will also be removed in the next version\n",
      "  from pandas import Panel\n"
     ]
    }
   ],
   "source": [
    "import numpy as np\n",
    "import pandas as pd\n",
    "import matplotlib.pyplot as plt\n",
    "import skmob\n",
    "from skmob.tessellation import tilers\n",
    "from skmob.measures.individual import distance_straight_line, maximum_distance, number_of_visits, waiting_times, real_entropy\n",
    "import math\n",
    "from tqdm import tqdm\n",
    "from numpy.linalg import norm\n",
    "import traja\n",
    "from scipy.stats import ks_2samp\n",
    "import folium\n",
    "from datetime import datetime\n",
    "from skmob.models.epr import DensityEPR\n",
    "import geopandas as gpd\n"
   ]
  },
  {
   "cell_type": "code",
   "execution_count": 2,
   "metadata": {},
   "outputs": [],
   "source": [
    "dat = pd.read_csv(\"Minute_Trajectories.csv\")\n",
    "dat['angles'] = traja.trajectory.calc_angle(dat)"
   ]
  },
  {
   "cell_type": "code",
   "execution_count": 3,
   "metadata": {},
   "outputs": [
    {
     "data": {
      "text/plain": [
       "[<matplotlib.lines.Line2D at 0x7f29cbc7b3a0>]"
      ]
     },
     "execution_count": 3,
     "metadata": {},
     "output_type": "execute_result"
    },
    {
     "data": {
      "image/png": "[encoded data removed]",
      "text/plain": [
       "<Figure size 432x288 with 1 Axes>"
      ]
     },
     "metadata": {
      "needs_background": "light"
     },
     "output_type": "display_data"
    }
   ],
   "source": [
    "plt.plot(dat['angles'].head(100),dat['t'].head(100))"
   ]
  },
  {
   "cell_type": "code",
   "execution_count": 6,
   "metadata": {},
   "outputs": [
    {
     "name": "stdout",
     "output_type": "stream",
     "text": [
      "-0.2799999999999727 17473.64\n"
     ]
    }
   ],
   "source": [
    "print(np.min(dat['norm_time']),np.max(dat['t']))"
   ]
  },
  {
   "cell_type": "code",
   "execution_count": 5,
   "metadata": {},
   "outputs": [],
   "source": [
    "dat['norm_time'] = dat['t']-561"
   ]
  },
  {
   "cell_type": "code",
   "execution_count": 7,
   "metadata": {},
   "outputs": [],
   "source": [
    "def sample_angle_t(t):\n",
    "    d_t = dat[np.floor(dat['norm_time'])==t]\n",
    "    return d_t.sample()['angles']\n",
    "def sample_len_t(t):\n",
    "    d_t = dat[np.floor(dat['norm_time'])==t]\n",
    "    ind = np.random.randint(np.shape(d_t)[1])\n",
    "    ind1 = np.where(dat['t'] == d_t.iloc[ind]['t'])[0][0]\n",
    "    if(ind1 > 0):\n",
    "        d1 = dat.iloc[ind1]\n",
    "        d2 = dat.iloc[ind1-1]\n",
    "        d = np.sqrt((d1['x']-d2['x'])**2 + (d1['y']-d2['y'])**2)\n",
    "    else:\n",
    "        d = 0\n",
    "    return d"
   ]
  },
  {
   "cell_type": "code",
   "execution_count": 10,
   "metadata": {},
   "outputs": [],
   "source": [
    "def sample_rw(n=1500,x=0,y=0, a=\"unif\",l=\"unif\"):\n",
    "    traj = np.zeros((n,2))\n",
    "    for i in range(1,n):\n",
    "        an = sample_angle_t(i)\n",
    "        ln = sample_len_t(i)\n",
    "        x1 = traj[i-1][0] + ln * np.cos(an)\n",
    "        y1 = traj[i-1][1] + ln * np.sin(an)\n",
    "        traj[i]=[x1,y1]\n",
    "    return traj\n",
    "        "
   ]
  },
  {
   "cell_type": "code",
   "execution_count": null,
   "metadata": {},
   "outputs": [
    {
     "name": "stderr",
     "output_type": "stream",
     "text": [
      "  4%|▍         | 20/500 [09:30<3:57:28, 29.68s/it]"
     ]
    }
   ],
   "source": [
    "num_samples = 500\n",
    "total_data = []\n",
    "for i in tqdm(range(num_samples)):\n",
    "    traj = sample_rw()\n",
    "    total_data.append(traj)\n",
    "\n",
    "plt.plot(traj[:,0],traj[:,1])"
   ]
  },
  {
   "cell_type": "code",
   "execution_count": null,
   "metadata": {},
   "outputs": [],
   "source": []
  }
 ],
 "metadata": {
  "kernelspec": {
   "display_name": "Python 3",
   "language": "python",
   "name": "python3"
  },
  "language_info": {
   "codemirror_mode": {
    "name": "ipython",
    "version": 3
   },
   "file_extension": ".py",
   "mimetype": "text/x-python",
   "name": "python",
   "nbconvert_exporter": "python",
   "pygments_lexer": "ipython3",
   "version": "3.8.5"
  }
 },
 "nbformat": 4,
 "nbformat_minor": 4
}
