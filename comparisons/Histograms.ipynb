{
 "cells": [
  {
   "cell_type": "code",
   "execution_count": 2,
   "id": "1d91ecc7",
   "metadata": {},
   "outputs": [],
   "source": [
    "# Create histograms comparing 2 sets of tracks (usually ants vs simulAnts)\n",
    "# Inputs: 2 DataFrames of the tracks w/ x,y,t,id (to be selected below)\n",
    "import numpy as np\n",
    "import pandas as pd\n",
    "import matplotlib.pyplot as plt\n",
    "%run ../data_prep/trackfuns.py"
   ]
  },
  {
   "cell_type": "code",
   "execution_count": 3,
   "id": "424a91d3",
   "metadata": {},
   "outputs": [
    {
     "name": "stdout",
     "output_type": "stream",
     "text": [
      "\u001b[1;33mWARNING: Nr of tracks unequal! Ants: 255, SumulAnts: 585. Picked first 255 tracks of SumulAnts\n"
     ]
    }
   ],
   "source": [
    "# Import data\n",
    "varNames = ['x','y','t','id']\n",
    "dataPath1 = r'C:\\Users\\stpop\\Documents\\MATLAB\\HRM_T2_ants' # ant data?\n",
    "dataPath2 = r'C:\\Users\\stpop\\Documents\\MATLAB\\HRM_T3_ants' # simulAnt data?\n",
    "\n",
    "# Labels to be displayed in the legends\n",
    "lab1 = 'Ants'\n",
    "lab2 = 'SumulAnts'\n",
    "\n",
    "dat1 = addMetrics(pd.read_csv(dataPath1+'.txt', usecols=varNames))\n",
    "dat2 = addMetrics(pd.read_csv(dataPath2+'.txt', usecols=varNames))\n",
    "\n",
    "ids1 = np.unique(dat1.id)\n",
    "ids2 = np.unique(dat2.id)\n",
    "\n",
    "# Equallizing #of tracks to make histograms comparable\n",
    "if len(ids1) == len(ids2):\n",
    "    print('Nr of tracks: ' + str(len(ids1)))\n",
    "elif len(ids1)>len(ids2):\n",
    "    print('\\033[1;33m' + 'WARNING: Nr of tracks unequal! '+\n",
    "          lab1+': ' + str(len(ids1)) + ', ' +\n",
    "          lab2+': ' + str(len(ids2)) + '. Picked first ' + str(len(ids2)) + ' tracks of ' + lab1)\n",
    "    idsMatch = ids1[:len(ids2)]\n",
    "    dat1 = dat1[np.isin(dat1.id,idsMatch)]\n",
    "else:\n",
    "    print('\\033[1;33m' + 'WARNING: Nr of tracks unequal! '+\n",
    "      lab1+': ' + str(len(ids1)) + ', ' +\n",
    "      lab2+': ' + str(len(ids2)) + '. Picked first ' + str(len(ids1)) + ' tracks of ' + lab2)\n",
    "    idsMatch = ids2[:len(ids1)]\n",
    "    dat2 = dat2[np.isin(dat2.id,idsMatch)]"
   ]
  },
  {
   "cell_type": "code",
   "execution_count": 4,
   "id": "8a041e62",
   "metadata": {},
   "outputs": [],
   "source": [
    "# Calculates all summary metrics (from trackfuns.py)\n",
    "dat1 = dat1[np.isin(dat1.id,ids1[:100])]\n",
    "dat2 = dat2[np.isin(dat2.id,ids2[:100])]\n",
    "sumStats1 = sum_stats(dat1)\n",
    "sumStats2 = sum_stats(dat2)"
   ]
  },
  {
   "cell_type": "code",
   "execution_count": 6,
   "id": "83643cc1",
   "metadata": {},
   "outputs": [
    {
     "data": {
      "text/html": [
       "<div>\n",
       "<style scoped>\n",
       "    .dataframe tbody tr th:only-of-type {\n",
       "        vertical-align: middle;\n",
       "    }\n",
       "\n",
       "    .dataframe tbody tr th {\n",
       "        vertical-align: top;\n",
       "    }\n",
       "\n",
       "    .dataframe thead th {\n",
       "        text-align: right;\n",
       "    }\n",
       "</style>\n",
       "<table border=\"1\" class=\"dataframe\">\n",
       "  <thead>\n",
       "    <tr style=\"text-align: right;\">\n",
       "      <th></th>\n",
       "      <th>id</th>\n",
       "      <th>sMu</th>\n",
       "      <th>sSD</th>\n",
       "      <th>alphaMu</th>\n",
       "      <th>alphaSu</th>\n",
       "      <th>alphaSD</th>\n",
       "      <th>turnChg</th>\n",
       "      <th>MSD</th>\n",
       "      <th>nrCross</th>\n",
       "      <th>turnAcRho</th>\n",
       "    </tr>\n",
       "  </thead>\n",
       "  <tbody>\n",
       "    <tr>\n",
       "      <th>0</th>\n",
       "      <td>1</td>\n",
       "      <td>1.800873</td>\n",
       "      <td>0.003312</td>\n",
       "      <td>0.042545</td>\n",
       "      <td>18.804876</td>\n",
       "      <td>17.989323</td>\n",
       "      <td>153.0</td>\n",
       "      <td>13748.879548</td>\n",
       "      <td>1.0</td>\n",
       "      <td>-0.194178</td>\n",
       "    </tr>\n",
       "    <tr>\n",
       "      <th>1</th>\n",
       "      <td>2</td>\n",
       "      <td>1.799736</td>\n",
       "      <td>0.004456</td>\n",
       "      <td>-0.021997</td>\n",
       "      <td>-27.078393</td>\n",
       "      <td>22.831555</td>\n",
       "      <td>461.0</td>\n",
       "      <td>149146.175093</td>\n",
       "      <td>4.0</td>\n",
       "      <td>-0.139739</td>\n",
       "    </tr>\n",
       "    <tr>\n",
       "      <th>2</th>\n",
       "      <td>3</td>\n",
       "      <td>1.799519</td>\n",
       "      <td>0.003238</td>\n",
       "      <td>-0.945311</td>\n",
       "      <td>-1160.841522</td>\n",
       "      <td>20.214713</td>\n",
       "      <td>410.0</td>\n",
       "      <td>37523.869872</td>\n",
       "      <td>6.0</td>\n",
       "      <td>-0.165784</td>\n",
       "    </tr>\n",
       "    <tr>\n",
       "      <th>3</th>\n",
       "      <td>4</td>\n",
       "      <td>1.800734</td>\n",
       "      <td>0.004338</td>\n",
       "      <td>-0.131950</td>\n",
       "      <td>-48.161647</td>\n",
       "      <td>20.424063</td>\n",
       "      <td>144.0</td>\n",
       "      <td>6073.027321</td>\n",
       "      <td>7.0</td>\n",
       "      <td>-0.123603</td>\n",
       "    </tr>\n",
       "    <tr>\n",
       "      <th>4</th>\n",
       "      <td>5</td>\n",
       "      <td>1.798950</td>\n",
       "      <td>0.003912</td>\n",
       "      <td>-1.097011</td>\n",
       "      <td>-436.610229</td>\n",
       "      <td>24.086897</td>\n",
       "      <td>124.0</td>\n",
       "      <td>4777.058598</td>\n",
       "      <td>4.0</td>\n",
       "      <td>-0.151007</td>\n",
       "    </tr>\n",
       "    <tr>\n",
       "      <th>...</th>\n",
       "      <td>...</td>\n",
       "      <td>...</td>\n",
       "      <td>...</td>\n",
       "      <td>...</td>\n",
       "      <td>...</td>\n",
       "      <td>...</td>\n",
       "      <td>...</td>\n",
       "      <td>...</td>\n",
       "      <td>...</td>\n",
       "      <td>...</td>\n",
       "    </tr>\n",
       "    <tr>\n",
       "      <th>95</th>\n",
       "      <td>96</td>\n",
       "      <td>1.801873</td>\n",
       "      <td>0.003784</td>\n",
       "      <td>0.516680</td>\n",
       "      <td>815.838309</td>\n",
       "      <td>21.431276</td>\n",
       "      <td>476.0</td>\n",
       "      <td>78517.908176</td>\n",
       "      <td>9.0</td>\n",
       "      <td>-0.131159</td>\n",
       "    </tr>\n",
       "    <tr>\n",
       "      <th>96</th>\n",
       "      <td>97</td>\n",
       "      <td>1.798994</td>\n",
       "      <td>0.003217</td>\n",
       "      <td>0.417644</td>\n",
       "      <td>473.190919</td>\n",
       "      <td>23.217716</td>\n",
       "      <td>402.0</td>\n",
       "      <td>8051.258550</td>\n",
       "      <td>33.0</td>\n",
       "      <td>-0.102147</td>\n",
       "    </tr>\n",
       "    <tr>\n",
       "      <th>97</th>\n",
       "      <td>98</td>\n",
       "      <td>1.798580</td>\n",
       "      <td>0.003272</td>\n",
       "      <td>-0.905529</td>\n",
       "      <td>-376.700026</td>\n",
       "      <td>28.347819</td>\n",
       "      <td>146.0</td>\n",
       "      <td>5449.265053</td>\n",
       "      <td>2.0</td>\n",
       "      <td>-0.177870</td>\n",
       "    </tr>\n",
       "    <tr>\n",
       "      <th>98</th>\n",
       "      <td>99</td>\n",
       "      <td>1.800007</td>\n",
       "      <td>0.003356</td>\n",
       "      <td>-0.990598</td>\n",
       "      <td>-459.637339</td>\n",
       "      <td>22.129956</td>\n",
       "      <td>159.0</td>\n",
       "      <td>11238.379447</td>\n",
       "      <td>3.0</td>\n",
       "      <td>-0.103751</td>\n",
       "    </tr>\n",
       "    <tr>\n",
       "      <th>99</th>\n",
       "      <td>100</td>\n",
       "      <td>1.801421</td>\n",
       "      <td>0.004026</td>\n",
       "      <td>0.241980</td>\n",
       "      <td>1268.215636</td>\n",
       "      <td>24.154778</td>\n",
       "      <td>1944.0</td>\n",
       "      <td>264856.394264</td>\n",
       "      <td>98.0</td>\n",
       "      <td>-0.116005</td>\n",
       "    </tr>\n",
       "  </tbody>\n",
       "</table>\n",
       "<p>100 rows × 10 columns</p>\n",
       "</div>"
      ],
      "text/plain": [
       "     id       sMu       sSD   alphaMu      alphaSu    alphaSD  turnChg  \\\n",
       "0     1  1.800873  0.003312  0.042545    18.804876  17.989323    153.0   \n",
       "1     2  1.799736  0.004456 -0.021997   -27.078393  22.831555    461.0   \n",
       "2     3  1.799519  0.003238 -0.945311 -1160.841522  20.214713    410.0   \n",
       "3     4  1.800734  0.004338 -0.131950   -48.161647  20.424063    144.0   \n",
       "4     5  1.798950  0.003912 -1.097011  -436.610229  24.086897    124.0   \n",
       "..  ...       ...       ...       ...          ...        ...      ...   \n",
       "95   96  1.801873  0.003784  0.516680   815.838309  21.431276    476.0   \n",
       "96   97  1.798994  0.003217  0.417644   473.190919  23.217716    402.0   \n",
       "97   98  1.798580  0.003272 -0.905529  -376.700026  28.347819    146.0   \n",
       "98   99  1.800007  0.003356 -0.990598  -459.637339  22.129956    159.0   \n",
       "99  100  1.801421  0.004026  0.241980  1268.215636  24.154778   1944.0   \n",
       "\n",
       "              MSD  nrCross  turnAcRho  \n",
       "0    13748.879548      1.0  -0.194178  \n",
       "1   149146.175093      4.0  -0.139739  \n",
       "2    37523.869872      6.0  -0.165784  \n",
       "3     6073.027321      7.0  -0.123603  \n",
       "4     4777.058598      4.0  -0.151007  \n",
       "..            ...      ...        ...  \n",
       "95   78517.908176      9.0  -0.131159  \n",
       "96    8051.258550     33.0  -0.102147  \n",
       "97    5449.265053      2.0  -0.177870  \n",
       "98   11238.379447      3.0  -0.103751  \n",
       "99  264856.394264     98.0  -0.116005  \n",
       "\n",
       "[100 rows x 10 columns]"
      ]
     },
     "execution_count": 6,
     "metadata": {},
     "output_type": "execute_result"
    }
   ],
   "source": [
    "sumStats1"
   ]
  },
  {
   "cell_type": "code",
   "execution_count": 7,
   "id": "5c7e66b1",
   "metadata": {},
   "outputs": [
    {
     "data": {
      "image/png": "[encoded data removed]",
      "text/plain": [
       "<Figure size 1080x360 with 2 Axes>"
      ]
     },
     "metadata": {
      "needs_background": "light"
     },
     "output_type": "display_data"
    }
   ],
   "source": [
    "# Are step lengths the same (across all tracks)?\n",
    "fig,ax = plt.subplots(1,2, figsize=(15,5))\n",
    "bins=np.histogram(np.hstack((sumStats1.sMu,sumStats2.sMu)), bins=40)[1] #get the bin edges\n",
    "ax[0].hist(sumStats1.sMu,bins, alpha=0.5)\n",
    "ax[0].hist(sumStats2.sMu,bins,alpha=0.5)\n",
    "ax[0].set_ylabel('#of steps', fontsize=12)\n",
    "ax[0].set_xlabel('Mean of step lengths [mm]', fontsize=12)\n",
    "\n",
    "bins=np.histogram(np.hstack((sumStats1.sSD,sumStats2.sSD)), bins=40)[1] #get the bin edges\n",
    "ax[1].hist(sumStats1.sSD,bins,alpha=0.5, label=lab1)\n",
    "ax[1].hist(sumStats2.sSD,bins,alpha=0.5, label=lab2)\n",
    "ax[1].set_xlabel('Standard deviation of step lengths [mm]', fontsize=12)\n",
    "ax[1].legend()\n",
    "plt.suptitle('Step lengths',fontsize=15)\n",
    "plt.show()"
   ]
  },
  {
   "cell_type": "code",
   "execution_count": 9,
   "id": "358bb6de",
   "metadata": {},
   "outputs": [
    {
     "data": {
      "image/png": "[encoded data removed]",
      "text/plain": [
       "<Figure size 1080x360 with 2 Axes>"
      ]
     },
     "metadata": {
      "needs_background": "light"
     },
     "output_type": "display_data"
    }
   ],
   "source": [
    "# Are turn angles the same (across all tracks)?\n",
    "fig,ax = plt.subplots(1,2, figsize=(15,5))\n",
    "bins=np.histogram(np.hstack((sumStats1.alphaSu,sumStats2.alphaSu)), bins=40)[1] #get the bin edges\n",
    "ax[0].hist(sumStats1.alphaSu, bins, alpha=0.5)\n",
    "ax[0].hist(sumStats2.alphaSu, bins, alpha=0.5)\n",
    "ax[0].set_ylabel('#of tracks', fontsize=12)\n",
    "ax[0].set_xlabel('Sum of turn angles [°]', fontsize=12)\n",
    "\n",
    "bins=np.histogram(np.hstack((sumStats1.alphaSD,sumStats2.alphaSD)), bins=40)[1] #get the bin edges\n",
    "ax[1].hist(sumStats1.alphaSD,bins,alpha=0.5, label=lab1)\n",
    "ax[1].hist(sumStats2.alphaSD,bins,alpha=0.5, label=lab2)\n",
    "ax[1].set_xlabel('Standard deviation of turn angles [°]', fontsize=12)\n",
    "ax[1].legend()\n",
    "plt.suptitle('Turn angles',fontsize=15)\n",
    "plt.show()"
   ]
  },
  {
   "cell_type": "code",
   "execution_count": 10,
   "id": "cc11b3ba",
   "metadata": {},
   "outputs": [
    {
     "data": {
      "image/png": "[encoded data removed]",
      "text/plain": [
       "<Figure size 1080x360 with 2 Axes>"
      ]
     },
     "metadata": {
      "needs_background": "light"
     },
     "output_type": "display_data"
    }
   ],
   "source": [
    "# #of turn direction changes & MSD\n",
    "fig,ax = plt.subplots(1,2, figsize=(15,5))\n",
    "bins=np.histogram(np.hstack((sumStats1.turnChg,sumStats2.turnChg)), bins=40)[1] #get the bin edges\n",
    "ax[0].hist(sumStats1.turnChg, bins, alpha=0.5)\n",
    "ax[0].hist(sumStats2.turnChg, bins, alpha=0.5)\n",
    "ax[0].set_ylabel('#of tracks', fontsize=12)\n",
    "ax[0].set_xlabel('#of turn direction changes', fontsize=12)\n",
    "ax[0].set_title('Direction changes',fontsize=15)\n",
    "\n",
    "bins=np.histogram(np.hstack((sumStats1.MSD,sumStats2.MSD)), bins=40)[1] #get the bin edges\n",
    "ax[1].hist(sumStats1.MSD,bins,alpha=0.5, label=lab1)\n",
    "ax[1].hist(sumStats2.MSD,bins,alpha=0.5, label=lab2)\n",
    "ax[1].set_xlabel('Mean Sq Displacement [mm\\u00b2]', fontsize=12)\n",
    "ax[1].set_title('Disperisvity',fontsize=15)\n",
    "ax[1].legend()\n",
    "plt.show()"
   ]
  },
  {
   "cell_type": "code",
   "execution_count": 6,
   "id": "15430157",
   "metadata": {},
   "outputs": [
    {
     "data": {
      "image/png": "[encoded data removed]",
      "text/plain": [
       "<Figure size 1080x360 with 2 Axes>"
      ]
     },
     "metadata": {
      "needs_background": "light"
     },
     "output_type": "display_data"
    }
   ],
   "source": [
    "# #of crosses & turn autocorrelation\n",
    "fig,ax = plt.subplots(1,2, figsize=(15,5))\n",
    "bins=np.histogram(np.hstack((sumStats1.turnAcRho,sumStats2.nrCross)), bins=40)[1] #get the bin edges\n",
    "ax[0].hist(sumStats1.nrCross, bins, alpha=0.5)\n",
    "ax[0].hist(sumStats2.nrCross, bins, alpha=0.5)\n",
    "ax[0].set_ylabel('#of tracks', fontsize=12)\n",
    "ax[0].set_xlabel('#of crosses', fontsize=12)\n",
    "ax[0].set_title('Crosses',fontsize=15)\n",
    "\n",
    "bins=np.histogram(np.hstack((sumStats1.turnAcRho,sumStats2.turnAcRho)), bins=40)[1] #get the bin edges\n",
    "ax[1].hist(sumStats1.turnAcRho,bins,alpha=0.5, label=lab1)\n",
    "ax[1].hist(sumStats2.turnAcRho,bins,alpha=0.5, label=lab2)\n",
    "ax[1].set_xlabel('Turn autocorrelation strength', fontsize=12)\n",
    "ax[1].set_title(r'$\\alpha$ autocorrelation',fontsize=15)\n",
    "ax[1].legend()\n",
    "plt.show()"
   ]
  }
 ],
 "metadata": {
  "kernelspec": {
   "display_name": "Python 3 (ipykernel)",
   "language": "python",
   "name": "python3"
  },
  "language_info": {
   "codemirror_mode": {
    "name": "ipython",
    "version": 3
   },
   "file_extension": ".py",
   "mimetype": "text/x-python",
   "name": "python",
   "nbconvert_exporter": "python",
   "pygments_lexer": "ipython3",
   "version": "3.9.7"
  },
  "varInspector": {
   "cols": {
    "lenName": 16,
    "lenType": 16,
    "lenVar": 40
   },
   "kernels_config": {
    "python": {
     "delete_cmd_postfix": "",
     "delete_cmd_prefix": "del ",
     "library": "var_list.py",
     "varRefreshCmd": "print(var_dic_list())"
    },
    "r": {
     "delete_cmd_postfix": ") ",
     "delete_cmd_prefix": "rm(",
     "library": "var_list.r",
     "varRefreshCmd": "cat(var_dic_list()) "
    }
   },
   "types_to_exclude": [
    "module",
    "function",
    "builtin_function_or_method",
    "instance",
    "_Feature"
   ],
   "window_display": false
  }
 },
 "nbformat": 4,
 "nbformat_minor": 5
}
