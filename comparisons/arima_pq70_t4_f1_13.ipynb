{
 "cells": [
  {
   "cell_type": "code",
   "execution_count": 1,
   "id": "1d91ecc7",
   "metadata": {},
   "outputs": [],
   "source": [
    "# Create histograms comparing 2 sets of tracks (usually ants vs simulAnts)\n",
    "# Inputs: 2 DataFrames of the tracks w/ x,y,t,id (to be selected below)\n",
    "import numpy as np\n",
    "import pandas as pd\n",
    "import matplotlib.pyplot as plt\n",
    "%run ../data_prep/trackfuns.py"
   ]
  },
  {
   "cell_type": "code",
   "execution_count": 2,
   "id": "424a91d3",
   "metadata": {},
   "outputs": [
    {
     "name": "stdout",
     "output_type": "stream",
     "text": [
      "Nr of tracks: 13\n"
     ]
    }
   ],
   "source": [
    "# Import data\n",
    "varNames = ['x','y','t','id']\n",
    "dataPath1 = r'/Users/beyzabozdag/Desktop/ANTteam/arima_test/test' # ant data?\n",
    "dataPath2 = r'/Users/beyzabozdag/Desktop/ANTteam/arima_test/forecast' # simulAnt data?\n",
    "\n",
    "# Labels to be displayed in the legends\n",
    "lab1 = 'Ants'\n",
    "lab2 = 'SumulAnts'\n",
    "\n",
    "dat1 = addMetrics(pd.read_csv(dataPath1+'.txt', usecols=varNames))\n",
    "dat2 = addMetrics(pd.read_csv(dataPath2+'.txt', usecols=varNames))\n",
    "\n",
    "ids1 = np.unique(dat1.id)\n",
    "ids2 = np.unique(dat2.id)\n",
    "\n",
    "# Equallizing #of tracks to make histograms comparable\n",
    "if len(ids1) == len(ids2):\n",
    "    print('Nr of tracks: ' + str(len(ids1)))\n",
    "elif len(ids1)>len(ids2):\n",
    "    print('\\033[1;33m' + 'WARNING: Nr of tracks unequal! '+\n",
    "          lab1+': ' + str(len(ids1)) + ', ' +\n",
    "          lab2+': ' + str(len(ids2)) + '. Picked first ' + str(len(ids2)) + ' tracks of ' + lab1)\n",
    "    idsMatch = ids1[:len(ids2)]\n",
    "    dat1 = dat1[np.isin(dat1.id,idsMatch)]\n",
    "else:\n",
    "    print('\\033[1;33m' + 'WARNING: Nr of tracks unequal! '+\n",
    "      lab1+': ' + str(len(ids1)) + ', ' +\n",
    "      lab2+': ' + str(len(ids2)) + '. Picked first ' + str(len(ids1)) + ' tracks of ' + lab2)\n",
    "    idsMatch = ids2[:len(ids1)]\n",
    "    dat2 = dat2[np.isin(dat2.id,idsMatch)]"
   ]
  },
  {
   "cell_type": "code",
   "execution_count": 3,
   "id": "8a041e62",
   "metadata": {},
   "outputs": [],
   "source": [
    "# Calculates all summary metrics (from trackfuns.py)\n",
    "dat1 = dat1[np.isin(dat1.id,ids1[:100])]\n",
    "dat2 = dat2[np.isin(dat2.id,ids2[:100])]\n",
    "sumStats1 = sum_stats(dat1)\n",
    "sumStats2 = sum_stats(dat2)"
   ]
  },
  {
   "cell_type": "code",
   "execution_count": 4,
   "id": "83643cc1",
   "metadata": {},
   "outputs": [
    {
     "data": {
      "text/html": [
       "<div>\n",
       "<style scoped>\n",
       "    .dataframe tbody tr th:only-of-type {\n",
       "        vertical-align: middle;\n",
       "    }\n",
       "\n",
       "    .dataframe tbody tr th {\n",
       "        vertical-align: top;\n",
       "    }\n",
       "\n",
       "    .dataframe thead th {\n",
       "        text-align: right;\n",
       "    }\n",
       "</style>\n",
       "<table border=\"1\" class=\"dataframe\">\n",
       "  <thead>\n",
       "    <tr style=\"text-align: right;\">\n",
       "      <th></th>\n",
       "      <th>id</th>\n",
       "      <th>sMu</th>\n",
       "      <th>sSD</th>\n",
       "      <th>alphaMu</th>\n",
       "      <th>alphaSu</th>\n",
       "      <th>alphaSD</th>\n",
       "      <th>turnChg</th>\n",
       "      <th>MSD</th>\n",
       "      <th>nrCross</th>\n",
       "      <th>turnAcRho</th>\n",
       "    </tr>\n",
       "  </thead>\n",
       "  <tbody>\n",
       "    <tr>\n",
       "      <th>0</th>\n",
       "      <td>1</td>\n",
       "      <td>0.536610</td>\n",
       "      <td>2.010077</td>\n",
       "      <td>-0.712693</td>\n",
       "      <td>-70.556608</td>\n",
       "      <td>31.534099</td>\n",
       "      <td>34.0</td>\n",
       "      <td>2914.950130</td>\n",
       "      <td>0.0</td>\n",
       "      <td>-0.241374</td>\n",
       "    </tr>\n",
       "    <tr>\n",
       "      <th>1</th>\n",
       "      <td>2</td>\n",
       "      <td>0.246150</td>\n",
       "      <td>0.184448</td>\n",
       "      <td>-0.455774</td>\n",
       "      <td>-45.121642</td>\n",
       "      <td>21.027933</td>\n",
       "      <td>36.0</td>\n",
       "      <td>4101.038417</td>\n",
       "      <td>0.0</td>\n",
       "      <td>-0.291245</td>\n",
       "    </tr>\n",
       "    <tr>\n",
       "      <th>2</th>\n",
       "      <td>3</td>\n",
       "      <td>0.397469</td>\n",
       "      <td>0.451638</td>\n",
       "      <td>-0.190954</td>\n",
       "      <td>-18.904461</td>\n",
       "      <td>36.501033</td>\n",
       "      <td>36.0</td>\n",
       "      <td>565.466964</td>\n",
       "      <td>12.0</td>\n",
       "      <td>-0.273025</td>\n",
       "    </tr>\n",
       "    <tr>\n",
       "      <th>3</th>\n",
       "      <td>4</td>\n",
       "      <td>0.398120</td>\n",
       "      <td>0.232803</td>\n",
       "      <td>1.150906</td>\n",
       "      <td>113.939677</td>\n",
       "      <td>38.600255</td>\n",
       "      <td>39.0</td>\n",
       "      <td>1834.336805</td>\n",
       "      <td>0.0</td>\n",
       "      <td>-0.161238</td>\n",
       "    </tr>\n",
       "    <tr>\n",
       "      <th>4</th>\n",
       "      <td>5</td>\n",
       "      <td>0.581192</td>\n",
       "      <td>0.592653</td>\n",
       "      <td>-7.516068</td>\n",
       "      <td>-744.090775</td>\n",
       "      <td>35.682516</td>\n",
       "      <td>31.0</td>\n",
       "      <td>1010.641184</td>\n",
       "      <td>8.0</td>\n",
       "      <td>-0.291133</td>\n",
       "    </tr>\n",
       "    <tr>\n",
       "      <th>5</th>\n",
       "      <td>6</td>\n",
       "      <td>0.363270</td>\n",
       "      <td>0.213308</td>\n",
       "      <td>0.909133</td>\n",
       "      <td>90.004144</td>\n",
       "      <td>29.281251</td>\n",
       "      <td>28.0</td>\n",
       "      <td>2545.365002</td>\n",
       "      <td>0.0</td>\n",
       "      <td>-0.267615</td>\n",
       "    </tr>\n",
       "    <tr>\n",
       "      <th>6</th>\n",
       "      <td>7</td>\n",
       "      <td>0.318500</td>\n",
       "      <td>0.085199</td>\n",
       "      <td>1.588393</td>\n",
       "      <td>157.250869</td>\n",
       "      <td>26.468720</td>\n",
       "      <td>35.0</td>\n",
       "      <td>2786.989315</td>\n",
       "      <td>0.0</td>\n",
       "      <td>-0.196938</td>\n",
       "    </tr>\n",
       "    <tr>\n",
       "      <th>7</th>\n",
       "      <td>8</td>\n",
       "      <td>0.240010</td>\n",
       "      <td>0.087494</td>\n",
       "      <td>-1.014001</td>\n",
       "      <td>-100.386106</td>\n",
       "      <td>23.726812</td>\n",
       "      <td>42.0</td>\n",
       "      <td>5307.879220</td>\n",
       "      <td>0.0</td>\n",
       "      <td>-0.206795</td>\n",
       "    </tr>\n",
       "    <tr>\n",
       "      <th>8</th>\n",
       "      <td>9</td>\n",
       "      <td>0.165330</td>\n",
       "      <td>0.044974</td>\n",
       "      <td>0.876940</td>\n",
       "      <td>86.817074</td>\n",
       "      <td>18.495645</td>\n",
       "      <td>27.0</td>\n",
       "      <td>2140.518314</td>\n",
       "      <td>0.0</td>\n",
       "      <td>-0.321428</td>\n",
       "    </tr>\n",
       "    <tr>\n",
       "      <th>9</th>\n",
       "      <td>10</td>\n",
       "      <td>0.280110</td>\n",
       "      <td>0.144172</td>\n",
       "      <td>1.942992</td>\n",
       "      <td>192.356231</td>\n",
       "      <td>24.722644</td>\n",
       "      <td>44.0</td>\n",
       "      <td>2698.944691</td>\n",
       "      <td>0.0</td>\n",
       "      <td>-0.177295</td>\n",
       "    </tr>\n",
       "    <tr>\n",
       "      <th>10</th>\n",
       "      <td>11</td>\n",
       "      <td>0.399930</td>\n",
       "      <td>0.213666</td>\n",
       "      <td>-0.941428</td>\n",
       "      <td>-93.201352</td>\n",
       "      <td>30.246212</td>\n",
       "      <td>43.0</td>\n",
       "      <td>2615.182959</td>\n",
       "      <td>0.0</td>\n",
       "      <td>-0.336301</td>\n",
       "    </tr>\n",
       "    <tr>\n",
       "      <th>11</th>\n",
       "      <td>12</td>\n",
       "      <td>0.404630</td>\n",
       "      <td>0.458854</td>\n",
       "      <td>2.049181</td>\n",
       "      <td>202.868942</td>\n",
       "      <td>39.888115</td>\n",
       "      <td>39.0</td>\n",
       "      <td>1857.636188</td>\n",
       "      <td>1.0</td>\n",
       "      <td>-0.318816</td>\n",
       "    </tr>\n",
       "    <tr>\n",
       "      <th>12</th>\n",
       "      <td>13</td>\n",
       "      <td>0.276340</td>\n",
       "      <td>0.148145</td>\n",
       "      <td>0.103787</td>\n",
       "      <td>10.274944</td>\n",
       "      <td>28.432000</td>\n",
       "      <td>31.0</td>\n",
       "      <td>1999.367797</td>\n",
       "      <td>0.0</td>\n",
       "      <td>-0.279914</td>\n",
       "    </tr>\n",
       "  </tbody>\n",
       "</table>\n",
       "</div>"
      ],
      "text/plain": [
       "    id       sMu       sSD   alphaMu     alphaSu    alphaSD  turnChg  \\\n",
       "0    1  0.536610  2.010077 -0.712693  -70.556608  31.534099     34.0   \n",
       "1    2  0.246150  0.184448 -0.455774  -45.121642  21.027933     36.0   \n",
       "2    3  0.397469  0.451638 -0.190954  -18.904461  36.501033     36.0   \n",
       "3    4  0.398120  0.232803  1.150906  113.939677  38.600255     39.0   \n",
       "4    5  0.581192  0.592653 -7.516068 -744.090775  35.682516     31.0   \n",
       "5    6  0.363270  0.213308  0.909133   90.004144  29.281251     28.0   \n",
       "6    7  0.318500  0.085199  1.588393  157.250869  26.468720     35.0   \n",
       "7    8  0.240010  0.087494 -1.014001 -100.386106  23.726812     42.0   \n",
       "8    9  0.165330  0.044974  0.876940   86.817074  18.495645     27.0   \n",
       "9   10  0.280110  0.144172  1.942992  192.356231  24.722644     44.0   \n",
       "10  11  0.399930  0.213666 -0.941428  -93.201352  30.246212     43.0   \n",
       "11  12  0.404630  0.458854  2.049181  202.868942  39.888115     39.0   \n",
       "12  13  0.276340  0.148145  0.103787   10.274944  28.432000     31.0   \n",
       "\n",
       "            MSD  nrCross  turnAcRho  \n",
       "0   2914.950130      0.0  -0.241374  \n",
       "1   4101.038417      0.0  -0.291245  \n",
       "2    565.466964     12.0  -0.273025  \n",
       "3   1834.336805      0.0  -0.161238  \n",
       "4   1010.641184      8.0  -0.291133  \n",
       "5   2545.365002      0.0  -0.267615  \n",
       "6   2786.989315      0.0  -0.196938  \n",
       "7   5307.879220      0.0  -0.206795  \n",
       "8   2140.518314      0.0  -0.321428  \n",
       "9   2698.944691      0.0  -0.177295  \n",
       "10  2615.182959      0.0  -0.336301  \n",
       "11  1857.636188      1.0  -0.318816  \n",
       "12  1999.367797      0.0  -0.279914  "
      ]
     },
     "execution_count": 4,
     "metadata": {},
     "output_type": "execute_result"
    }
   ],
   "source": [
    "sumStats1"
   ]
  },
  {
   "cell_type": "code",
   "execution_count": 5,
   "id": "5c7e66b1",
   "metadata": {},
   "outputs": [
    {
     "data": {
      "image/png": "[encoded data removed]",
      "text/plain": [
       "<Figure size 1080x360 with 2 Axes>"
      ]
     },
     "metadata": {
      "needs_background": "light"
     },
     "output_type": "display_data"
    }
   ],
   "source": [
    "# Are step lengths the same (across all tracks)?\n",
    "fig,ax = plt.subplots(1,2, figsize=(15,5))\n",
    "bins=np.histogram(np.hstack((sumStats1.sMu,sumStats2.sMu)), bins=40)[1] #get the bin edges\n",
    "ax[0].hist(sumStats1.sMu,bins, alpha=0.5)\n",
    "ax[0].hist(sumStats2.sMu,bins,alpha=0.5)\n",
    "ax[0].set_ylabel('#of steps', fontsize=12)\n",
    "ax[0].set_xlabel('Mean of step lengths [mm]', fontsize=12)\n",
    "\n",
    "bins=np.histogram(np.hstack((sumStats1.sSD,sumStats2.sSD)), bins=40)[1] #get the bin edges\n",
    "ax[1].hist(sumStats1.sSD,bins,alpha=0.5, label=lab1)\n",
    "ax[1].hist(sumStats2.sSD,bins,alpha=0.5, label=lab2)\n",
    "ax[1].set_xlabel('Standard deviation of step lengths [mm]', fontsize=12)\n",
    "ax[1].legend()\n",
    "plt.suptitle('Step lengths',fontsize=15)\n",
    "plt.show()"
   ]
  },
  {
   "cell_type": "code",
   "execution_count": 6,
   "id": "358bb6de",
   "metadata": {},
   "outputs": [
    {
     "data": {
      "image/png": "[encoded data removed]",
      "text/plain": [
       "<Figure size 1080x360 with 2 Axes>"
      ]
     },
     "metadata": {
      "needs_background": "light"
     },
     "output_type": "display_data"
    }
   ],
   "source": [
    "# Are turn angles the same (across all tracks)?\n",
    "fig,ax = plt.subplots(1,2, figsize=(15,5))\n",
    "bins=np.histogram(np.hstack((sumStats1.alphaSu,sumStats2.alphaSu)), bins=40)[1] #get the bin edges\n",
    "ax[0].hist(sumStats1.alphaSu, bins, alpha=0.5)\n",
    "ax[0].hist(sumStats2.alphaSu, bins, alpha=0.5)\n",
    "ax[0].set_ylabel('#of tracks', fontsize=12)\n",
    "ax[0].set_xlabel('Sum of turn angles [°]', fontsize=12)\n",
    "\n",
    "bins=np.histogram(np.hstack((sumStats1.alphaSD,sumStats2.alphaSD)), bins=40)[1] #get the bin edges\n",
    "ax[1].hist(sumStats1.alphaSD,bins,alpha=0.5, label=lab1)\n",
    "ax[1].hist(sumStats2.alphaSD,bins,alpha=0.5, label=lab2)\n",
    "ax[1].set_xlabel('Standard deviation of turn angles [°]', fontsize=12)\n",
    "ax[1].legend()\n",
    "plt.suptitle('Turn angles',fontsize=15)\n",
    "plt.show()"
   ]
  },
  {
   "cell_type": "code",
   "execution_count": 7,
   "id": "cc11b3ba",
   "metadata": {},
   "outputs": [
    {
     "data": {
      "image/png": "[encoded data removed]",
      "text/plain": [
       "<Figure size 1080x360 with 2 Axes>"
      ]
     },
     "metadata": {
      "needs_background": "light"
     },
     "output_type": "display_data"
    }
   ],
   "source": [
    "# #of turn direction changes & MSD\n",
    "fig,ax = plt.subplots(1,2, figsize=(15,5))\n",
    "bins=np.histogram(np.hstack((sumStats1.turnChg,sumStats2.turnChg)), bins=40)[1] #get the bin edges\n",
    "ax[0].hist(sumStats1.turnChg, bins, alpha=0.5)\n",
    "ax[0].hist(sumStats2.turnChg, bins, alpha=0.5)\n",
    "ax[0].set_ylabel('#of tracks', fontsize=12)\n",
    "ax[0].set_xlabel('#of turn direction changes', fontsize=12)\n",
    "ax[0].set_title('Direction changes',fontsize=15)\n",
    "\n",
    "bins=np.histogram(np.hstack((sumStats1.MSD,sumStats2.MSD)), bins=40)[1] #get the bin edges\n",
    "ax[1].hist(sumStats1.MSD,bins,alpha=0.5, label=lab1)\n",
    "ax[1].hist(sumStats2.MSD,bins,alpha=0.5, label=lab2)\n",
    "ax[1].set_xlabel('Mean Sq Displacement [mm\\u00b2]', fontsize=12)\n",
    "ax[1].set_title('Disperisvity',fontsize=15)\n",
    "ax[1].legend()\n",
    "plt.show()"
   ]
  },
  {
   "cell_type": "code",
   "execution_count": 8,
   "id": "15430157",
   "metadata": {},
   "outputs": [
    {
     "data": {
      "image/png": "[encoded data removed]",
      "text/plain": [
       "<Figure size 1080x360 with 2 Axes>"
      ]
     },
     "metadata": {
      "needs_background": "light"
     },
     "output_type": "display_data"
    }
   ],
   "source": [
    "# #of crosses & turn autocorrelation\n",
    "fig,ax = plt.subplots(1,2, figsize=(15,5))\n",
    "bins=np.histogram(np.hstack((sumStats1.turnAcRho,sumStats2.nrCross)), bins=40)[1] #get the bin edges\n",
    "ax[0].hist(sumStats1.nrCross, bins, alpha=0.5)\n",
    "ax[0].hist(sumStats2.nrCross, bins, alpha=0.5)\n",
    "ax[0].set_ylabel('#of tracks', fontsize=12)\n",
    "ax[0].set_xlabel('#of crosses', fontsize=12)\n",
    "ax[0].set_title('Crosses',fontsize=15)\n",
    "\n",
    "bins=np.histogram(np.hstack((sumStats1.turnAcRho,sumStats2.turnAcRho)), bins=40)[1] #get the bin edges\n",
    "ax[1].hist(sumStats1.turnAcRho,bins,alpha=0.5, label=lab1)\n",
    "ax[1].hist(sumStats2.turnAcRho,bins,alpha=0.5, label=lab2)\n",
    "ax[1].set_xlabel('Turn autocorrelation strength', fontsize=12)\n",
    "ax[1].set_title(r'$\\alpha$ autocorrelation',fontsize=15)\n",
    "ax[1].legend()\n",
    "plt.show()"
   ]
  },
  {
   "cell_type": "code",
   "execution_count": null,
   "id": "e24f32fa",
   "metadata": {},
   "outputs": [],
   "source": []
  }
 ],
 "metadata": {
  "kernelspec": {
   "display_name": "Python 3 (ipykernel)",
   "language": "python",
   "name": "python3"
  },
  "language_info": {
   "codemirror_mode": {
    "name": "ipython",
    "version": 3
   },
   "file_extension": ".py",
   "mimetype": "text/x-python",
   "name": "python",
   "nbconvert_exporter": "python",
   "pygments_lexer": "ipython3",
   "version": "3.8.5"
  },
  "varInspector": {
   "cols": {
    "lenName": 16,
    "lenType": 16,
    "lenVar": 40
   },
   "kernels_config": {
    "python": {
     "delete_cmd_postfix": "",
     "delete_cmd_prefix": "del ",
     "library": "var_list.py",
     "varRefreshCmd": "print(var_dic_list())"
    },
    "r": {
     "delete_cmd_postfix": ") ",
     "delete_cmd_prefix": "rm(",
     "library": "var_list.r",
     "varRefreshCmd": "cat(var_dic_list()) "
    }
   },
   "types_to_exclude": [
    "module",
    "function",
    "builtin_function_or_method",
    "instance",
    "_Feature"
   ],
   "window_display": false
  }
 },
 "nbformat": 4,
 "nbformat_minor": 5
}
